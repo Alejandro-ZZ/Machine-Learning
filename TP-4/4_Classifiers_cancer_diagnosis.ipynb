{
  "nbformat": 4,
  "nbformat_minor": 0,
  "metadata": {
    "colab": {
      "name": "4_Classifiers_cancer_diagnosis.ipynb",
      "provenance": [],
      "collapsed_sections": [],
      "toc_visible": true,
      "authorship_tag": "ABX9TyNvYGxX295sb6e00foxfQue",
      "include_colab_link": true
    },
    "kernelspec": {
      "name": "python3",
      "display_name": "Python 3"
    },
    "language_info": {
      "name": "python"
    }
  },
  "cells": [
    {
      "cell_type": "markdown",
      "metadata": {
        "id": "view-in-github",
        "colab_type": "text"
      },
      "source": [
        "<a href=\"https://colab.research.google.com/github/Alejandro-ZZ/Machine-Learning-UNS/blob/master/4_Classifiers_cancer_diagnosis.ipynb\" target=\"_parent\"><img src=\"https://colab.research.google.com/assets/colab-badge.svg\" alt=\"Open In Colab\"/></a>"
      ]
    },
    {
      "cell_type": "markdown",
      "metadata": {
        "id": "Mb4FJQl6G7fo"
      },
      "source": [
        "# **Diagnóstico de cáncer**\n",
        "\n",
        "En el siguiente notebook se desarrolla un **clasificador** que permita **predecir la benignidad o malignidad de un tumor**.\n",
        "<br><br>\n",
        "Se utiliza el dataset **Winsconsin Breast Cancer**, el cual contiene una tabla con **569 datos de histología mamaria humana**, 357 casos de tejido tumoral benigno y 212 tejido maligno.\n",
        "<br><br>\n",
        "Se evaluarán distintos clasificadores y la combinación de algunos de sus hiperparámetros por medio de la función **GridSearchCV**. Así mismo, se realiza una **reducción de dimensionalidad** en los atributos para ver el comportamiento de los modelos y si estos mejoran respecto a la totalidad de los mismos."
      ]
    },
    {
      "cell_type": "code",
      "metadata": {
        "id": "ob7Uys477bCd"
      },
      "source": [
        "import numpy as np \n",
        "import pandas as pd \n",
        "import seaborn as sns\n",
        "import matplotlib.pyplot as plt\n",
        "\n",
        "from sklearn.preprocessing import LabelEncoder, StandardScaler\n",
        "from sklearn.model_selection import train_test_split\n",
        "from sklearn.model_selection import GridSearchCV\n",
        "from sklearn.metrics import classification_report\n",
        "from sklearn.model_selection import cross_validate\n",
        "\n",
        "from sklearn.neighbors import KNeighborsClassifier\n",
        "from sklearn.ensemble import RandomForestClassifier\n",
        "from sklearn.svm import SVC\n",
        "from sklearn.linear_model import LogisticRegression"
      ],
      "execution_count": null,
      "outputs": []
    },
    {
      "cell_type": "markdown",
      "metadata": {
        "id": "oHcvu5wRHDzQ"
      },
      "source": [
        "## **1. Lectura y análisis del dataset**\n",
        "\n",
        "La lectura se realiza de un repositorio donde se encuentra el dataset para propósitos educativos. Sin embargo, el dataset completo se puede encontrar en [kaggle.com](https://www.kaggle.com/uciml/breast-cancer-wisconsin-data)"
      ]
    },
    {
      "cell_type": "code",
      "metadata": {
        "colab": {
          "base_uri": "https://localhost:8080/",
          "height": 244
        },
        "id": "g6qseMAC7m5I",
        "outputId": "70df5a6d-75d6-4144-8ef2-3c3a16e7ec9b"
      },
      "source": [
        "cancer_tissues = pd.read_csv(\"https://raw.githubusercontent.com/emmanueliarussi/DataScienceCapstone/master/3_MidtermProjects/ProjectBCD/data/data.csv\")\n",
        "cancer_tissues.head()"
      ],
      "execution_count": null,
      "outputs": [
        {
          "output_type": "execute_result",
          "data": {
            "text/html": [
              "<div>\n",
              "<style scoped>\n",
              "    .dataframe tbody tr th:only-of-type {\n",
              "        vertical-align: middle;\n",
              "    }\n",
              "\n",
              "    .dataframe tbody tr th {\n",
              "        vertical-align: top;\n",
              "    }\n",
              "\n",
              "    .dataframe thead th {\n",
              "        text-align: right;\n",
              "    }\n",
              "</style>\n",
              "<table border=\"1\" class=\"dataframe\">\n",
              "  <thead>\n",
              "    <tr style=\"text-align: right;\">\n",
              "      <th></th>\n",
              "      <th>id</th>\n",
              "      <th>diagnosis</th>\n",
              "      <th>radius_mean</th>\n",
              "      <th>texture_mean</th>\n",
              "      <th>perimeter_mean</th>\n",
              "      <th>area_mean</th>\n",
              "      <th>smoothness_mean</th>\n",
              "      <th>compactness_mean</th>\n",
              "      <th>concavity_mean</th>\n",
              "      <th>concave points_mean</th>\n",
              "      <th>symmetry_mean</th>\n",
              "      <th>fractal_dimension_mean</th>\n",
              "      <th>radius_se</th>\n",
              "      <th>texture_se</th>\n",
              "      <th>perimeter_se</th>\n",
              "      <th>area_se</th>\n",
              "      <th>smoothness_se</th>\n",
              "      <th>compactness_se</th>\n",
              "      <th>concavity_se</th>\n",
              "      <th>concave points_se</th>\n",
              "      <th>symmetry_se</th>\n",
              "      <th>fractal_dimension_se</th>\n",
              "      <th>radius_worst</th>\n",
              "      <th>texture_worst</th>\n",
              "      <th>perimeter_worst</th>\n",
              "      <th>area_worst</th>\n",
              "      <th>smoothness_worst</th>\n",
              "      <th>compactness_worst</th>\n",
              "      <th>concavity_worst</th>\n",
              "      <th>concave points_worst</th>\n",
              "      <th>symmetry_worst</th>\n",
              "      <th>fractal_dimension_worst</th>\n",
              "      <th>Unnamed: 32</th>\n",
              "    </tr>\n",
              "  </thead>\n",
              "  <tbody>\n",
              "    <tr>\n",
              "      <th>0</th>\n",
              "      <td>842302</td>\n",
              "      <td>M</td>\n",
              "      <td>17.99</td>\n",
              "      <td>10.38</td>\n",
              "      <td>122.80</td>\n",
              "      <td>1001.0</td>\n",
              "      <td>0.11840</td>\n",
              "      <td>0.27760</td>\n",
              "      <td>0.3001</td>\n",
              "      <td>0.14710</td>\n",
              "      <td>0.2419</td>\n",
              "      <td>0.07871</td>\n",
              "      <td>1.0950</td>\n",
              "      <td>0.9053</td>\n",
              "      <td>8.589</td>\n",
              "      <td>153.40</td>\n",
              "      <td>0.006399</td>\n",
              "      <td>0.04904</td>\n",
              "      <td>0.05373</td>\n",
              "      <td>0.01587</td>\n",
              "      <td>0.03003</td>\n",
              "      <td>0.006193</td>\n",
              "      <td>25.38</td>\n",
              "      <td>17.33</td>\n",
              "      <td>184.60</td>\n",
              "      <td>2019.0</td>\n",
              "      <td>0.1622</td>\n",
              "      <td>0.6656</td>\n",
              "      <td>0.7119</td>\n",
              "      <td>0.2654</td>\n",
              "      <td>0.4601</td>\n",
              "      <td>0.11890</td>\n",
              "      <td>NaN</td>\n",
              "    </tr>\n",
              "    <tr>\n",
              "      <th>1</th>\n",
              "      <td>842517</td>\n",
              "      <td>M</td>\n",
              "      <td>20.57</td>\n",
              "      <td>17.77</td>\n",
              "      <td>132.90</td>\n",
              "      <td>1326.0</td>\n",
              "      <td>0.08474</td>\n",
              "      <td>0.07864</td>\n",
              "      <td>0.0869</td>\n",
              "      <td>0.07017</td>\n",
              "      <td>0.1812</td>\n",
              "      <td>0.05667</td>\n",
              "      <td>0.5435</td>\n",
              "      <td>0.7339</td>\n",
              "      <td>3.398</td>\n",
              "      <td>74.08</td>\n",
              "      <td>0.005225</td>\n",
              "      <td>0.01308</td>\n",
              "      <td>0.01860</td>\n",
              "      <td>0.01340</td>\n",
              "      <td>0.01389</td>\n",
              "      <td>0.003532</td>\n",
              "      <td>24.99</td>\n",
              "      <td>23.41</td>\n",
              "      <td>158.80</td>\n",
              "      <td>1956.0</td>\n",
              "      <td>0.1238</td>\n",
              "      <td>0.1866</td>\n",
              "      <td>0.2416</td>\n",
              "      <td>0.1860</td>\n",
              "      <td>0.2750</td>\n",
              "      <td>0.08902</td>\n",
              "      <td>NaN</td>\n",
              "    </tr>\n",
              "    <tr>\n",
              "      <th>2</th>\n",
              "      <td>84300903</td>\n",
              "      <td>M</td>\n",
              "      <td>19.69</td>\n",
              "      <td>21.25</td>\n",
              "      <td>130.00</td>\n",
              "      <td>1203.0</td>\n",
              "      <td>0.10960</td>\n",
              "      <td>0.15990</td>\n",
              "      <td>0.1974</td>\n",
              "      <td>0.12790</td>\n",
              "      <td>0.2069</td>\n",
              "      <td>0.05999</td>\n",
              "      <td>0.7456</td>\n",
              "      <td>0.7869</td>\n",
              "      <td>4.585</td>\n",
              "      <td>94.03</td>\n",
              "      <td>0.006150</td>\n",
              "      <td>0.04006</td>\n",
              "      <td>0.03832</td>\n",
              "      <td>0.02058</td>\n",
              "      <td>0.02250</td>\n",
              "      <td>0.004571</td>\n",
              "      <td>23.57</td>\n",
              "      <td>25.53</td>\n",
              "      <td>152.50</td>\n",
              "      <td>1709.0</td>\n",
              "      <td>0.1444</td>\n",
              "      <td>0.4245</td>\n",
              "      <td>0.4504</td>\n",
              "      <td>0.2430</td>\n",
              "      <td>0.3613</td>\n",
              "      <td>0.08758</td>\n",
              "      <td>NaN</td>\n",
              "    </tr>\n",
              "    <tr>\n",
              "      <th>3</th>\n",
              "      <td>84348301</td>\n",
              "      <td>M</td>\n",
              "      <td>11.42</td>\n",
              "      <td>20.38</td>\n",
              "      <td>77.58</td>\n",
              "      <td>386.1</td>\n",
              "      <td>0.14250</td>\n",
              "      <td>0.28390</td>\n",
              "      <td>0.2414</td>\n",
              "      <td>0.10520</td>\n",
              "      <td>0.2597</td>\n",
              "      <td>0.09744</td>\n",
              "      <td>0.4956</td>\n",
              "      <td>1.1560</td>\n",
              "      <td>3.445</td>\n",
              "      <td>27.23</td>\n",
              "      <td>0.009110</td>\n",
              "      <td>0.07458</td>\n",
              "      <td>0.05661</td>\n",
              "      <td>0.01867</td>\n",
              "      <td>0.05963</td>\n",
              "      <td>0.009208</td>\n",
              "      <td>14.91</td>\n",
              "      <td>26.50</td>\n",
              "      <td>98.87</td>\n",
              "      <td>567.7</td>\n",
              "      <td>0.2098</td>\n",
              "      <td>0.8663</td>\n",
              "      <td>0.6869</td>\n",
              "      <td>0.2575</td>\n",
              "      <td>0.6638</td>\n",
              "      <td>0.17300</td>\n",
              "      <td>NaN</td>\n",
              "    </tr>\n",
              "    <tr>\n",
              "      <th>4</th>\n",
              "      <td>84358402</td>\n",
              "      <td>M</td>\n",
              "      <td>20.29</td>\n",
              "      <td>14.34</td>\n",
              "      <td>135.10</td>\n",
              "      <td>1297.0</td>\n",
              "      <td>0.10030</td>\n",
              "      <td>0.13280</td>\n",
              "      <td>0.1980</td>\n",
              "      <td>0.10430</td>\n",
              "      <td>0.1809</td>\n",
              "      <td>0.05883</td>\n",
              "      <td>0.7572</td>\n",
              "      <td>0.7813</td>\n",
              "      <td>5.438</td>\n",
              "      <td>94.44</td>\n",
              "      <td>0.011490</td>\n",
              "      <td>0.02461</td>\n",
              "      <td>0.05688</td>\n",
              "      <td>0.01885</td>\n",
              "      <td>0.01756</td>\n",
              "      <td>0.005115</td>\n",
              "      <td>22.54</td>\n",
              "      <td>16.67</td>\n",
              "      <td>152.20</td>\n",
              "      <td>1575.0</td>\n",
              "      <td>0.1374</td>\n",
              "      <td>0.2050</td>\n",
              "      <td>0.4000</td>\n",
              "      <td>0.1625</td>\n",
              "      <td>0.2364</td>\n",
              "      <td>0.07678</td>\n",
              "      <td>NaN</td>\n",
              "    </tr>\n",
              "  </tbody>\n",
              "</table>\n",
              "</div>"
            ],
            "text/plain": [
              "         id diagnosis  ...  fractal_dimension_worst  Unnamed: 32\n",
              "0    842302         M  ...                  0.11890          NaN\n",
              "1    842517         M  ...                  0.08902          NaN\n",
              "2  84300903         M  ...                  0.08758          NaN\n",
              "3  84348301         M  ...                  0.17300          NaN\n",
              "4  84358402         M  ...                  0.07678          NaN\n",
              "\n",
              "[5 rows x 33 columns]"
            ]
          },
          "metadata": {},
          "execution_count": 2
        }
      ]
    },
    {
      "cell_type": "markdown",
      "metadata": {
        "id": "XXtkPZexihR5"
      },
      "source": [
        "Se observa un resumen del dataset para conocer aspectos como los tipos de datos de las columnas y la cantidad de valores nulos."
      ]
    },
    {
      "cell_type": "code",
      "metadata": {
        "colab": {
          "base_uri": "https://localhost:8080/"
        },
        "id": "eTXVFt8c-DYb",
        "outputId": "4bcbce6f-6c65-41f8-9a6a-8aaec50b888d"
      },
      "source": [
        "cancer_tissues.info()"
      ],
      "execution_count": null,
      "outputs": [
        {
          "output_type": "stream",
          "name": "stdout",
          "text": [
            "<class 'pandas.core.frame.DataFrame'>\n",
            "RangeIndex: 569 entries, 0 to 568\n",
            "Data columns (total 33 columns):\n",
            " #   Column                   Non-Null Count  Dtype  \n",
            "---  ------                   --------------  -----  \n",
            " 0   id                       569 non-null    int64  \n",
            " 1   diagnosis                569 non-null    object \n",
            " 2   radius_mean              569 non-null    float64\n",
            " 3   texture_mean             569 non-null    float64\n",
            " 4   perimeter_mean           569 non-null    float64\n",
            " 5   area_mean                569 non-null    float64\n",
            " 6   smoothness_mean          569 non-null    float64\n",
            " 7   compactness_mean         569 non-null    float64\n",
            " 8   concavity_mean           569 non-null    float64\n",
            " 9   concave points_mean      569 non-null    float64\n",
            " 10  symmetry_mean            569 non-null    float64\n",
            " 11  fractal_dimension_mean   569 non-null    float64\n",
            " 12  radius_se                569 non-null    float64\n",
            " 13  texture_se               569 non-null    float64\n",
            " 14  perimeter_se             569 non-null    float64\n",
            " 15  area_se                  569 non-null    float64\n",
            " 16  smoothness_se            569 non-null    float64\n",
            " 17  compactness_se           569 non-null    float64\n",
            " 18  concavity_se             569 non-null    float64\n",
            " 19  concave points_se        569 non-null    float64\n",
            " 20  symmetry_se              569 non-null    float64\n",
            " 21  fractal_dimension_se     569 non-null    float64\n",
            " 22  radius_worst             569 non-null    float64\n",
            " 23  texture_worst            569 non-null    float64\n",
            " 24  perimeter_worst          569 non-null    float64\n",
            " 25  area_worst               569 non-null    float64\n",
            " 26  smoothness_worst         569 non-null    float64\n",
            " 27  compactness_worst        569 non-null    float64\n",
            " 28  concavity_worst          569 non-null    float64\n",
            " 29  concave points_worst     569 non-null    float64\n",
            " 30  symmetry_worst           569 non-null    float64\n",
            " 31  fractal_dimension_worst  569 non-null    float64\n",
            " 32  Unnamed: 32              0 non-null      float64\n",
            "dtypes: float64(31), int64(1), object(1)\n",
            "memory usage: 146.8+ KB\n"
          ]
        }
      ]
    },
    {
      "cell_type": "markdown",
      "metadata": {
        "id": "vAWyCZdL-X3z"
      },
      "source": [
        "- Se observa que todos los atributos son numéricos a excepción de ***diagnosis*** (este será el target del modelo)\n",
        "- La única columna que presenta datos sin registrar es ***Unnamed: 32*** que no aporta información alguna\n",
        "- La columna ***id*** es el identificador único del paciente, se puede omitir para el modelo\n",
        "\n",
        "Se procede a extraer el target (y) y los atributos (X)"
      ]
    },
    {
      "cell_type": "code",
      "metadata": {
        "id": "1htwh2rX7zVH"
      },
      "source": [
        "# Se elimina la columna 'id' y 'Unnamed: 32'\n",
        "cancer_tissues = cancer_tissues.drop(columns=['id', 'Unnamed: 32'])\n",
        "\n",
        "#Se codifica el diagnóstico a valores numéricos\n",
        "le = LabelEncoder()\n",
        "cancer_tissues['diagnosis'] = le.fit_transform(cancer_tissues['diagnosis'])\n",
        "\n",
        "# Se extraen los atributos (features) y diagnostico\n",
        "X = cancer_tissues.drop(columns='diagnosis')\n",
        "y = cancer_tissues['diagnosis']\n",
        "\n",
        "# Se obtienen los atributos estandarizados\n",
        "scaler = StandardScaler()\n",
        "scaler.fit(X)\n",
        "X_norm = pd.DataFrame(scaler.transform(X), columns=X.columns)"
      ],
      "execution_count": null,
      "outputs": []
    },
    {
      "cell_type": "markdown",
      "metadata": {
        "id": "HKk_9pF_DM4V"
      },
      "source": [
        "## **2. Evaluación de modelos**\n",
        "\n",
        "Se evalúan diferentes modelos para todos los atributos y los mismos estandarizados."
      ]
    },
    {
      "cell_type": "markdown",
      "metadata": {
        "id": "vmX5ONKIjfS9"
      },
      "source": [
        "Primero se definen los modelos e hiperparámetros."
      ]
    },
    {
      "cell_type": "code",
      "metadata": {
        "id": "4EVPKWgdIRRz"
      },
      "source": [
        "# Modelos e hiperparámetros a evaluar\n",
        "model_params = {\n",
        "    'K-nearest neighbors':{\n",
        "        'model': KNeighborsClassifier(),\n",
        "        'params':{\n",
        "            'n_neighbors': [n for n in range(2,90,2)]\n",
        "        }\n",
        "    },\n",
        "    'SVM': {\n",
        "        'model': SVC(random_state=4),\n",
        "        'params': {\n",
        "            'kernel': ['linear', 'poly', 'rbf', 'sigmoid'],\n",
        "            'C': [0.1, 1, 10]\n",
        "        }\n",
        "    },\n",
        "    'Logistic Regression':{\n",
        "        'model': LogisticRegression(tol=1e-2, random_state=4),\n",
        "        'params':{\n",
        "            'solver': ['liblinear', 'newton-cg'],\n",
        "            'C': [0.1, 1, 10]\n",
        "        }\n",
        "    },\n",
        "    'Random Forest':{\n",
        "        'model': RandomForestClassifier(random_state=4),\n",
        "        'params':{\n",
        "            'n_estimators': [n for n in range(10,100,10)],\n",
        "            'criterion':['gini','entropy'],\n",
        "        }\n",
        "    }\n",
        "}\n",
        "\n",
        "# Proporción de separación para entrenamiento y prueba\n",
        "data_split = np.arange(0.2, 0.8, 0.1)"
      ],
      "execution_count": null,
      "outputs": []
    },
    {
      "cell_type": "markdown",
      "metadata": {
        "id": "FeGU_DjFsYac"
      },
      "source": [
        "Ahora se evalúa cada modelo y su respectiva combinación de hiperparámetros para cada dataset"
      ]
    },
    {
      "cell_type": "code",
      "metadata": {
        "id": "HWEgv8F8GdtF"
      },
      "source": [
        "data_results = {}\n",
        "datasets = {'X': X, 'X norm': X_norm}\n",
        "\n",
        "for dataset in datasets:\n",
        "  results = []\n",
        "  feats = datasets[dataset]\n",
        "  for size in data_split:\n",
        "    \n",
        "    X_train, X_test, y_train, y_test = train_test_split(feats, y, test_size = size, random_state=4)\n",
        "\n",
        "    model = []\n",
        "    grid_score = []\n",
        "    cross_score = []\n",
        "    params = []\n",
        "\n",
        "    for model_name, values in model_params.items():\n",
        "      clf = GridSearchCV(values['model'], values['params'], cv=5)\n",
        "      clf.fit(X_train, y_train)\n",
        "      \n",
        "      #test_score = cross_validate(clf.best_estimator_, X_test, y_test, scoring='accuracy', cv = 5)\n",
        "\n",
        "      model.append(model_name)\n",
        "      grid_score.append(clf.best_score_)\n",
        "      #cross_score.append(np.mean(test_score['test_score']))\n",
        "      cross_score.append(clf.score(X_test, y_test))\n",
        "      params.append(clf.best_params_)\n",
        "\n",
        "    dummy_df = pd.DataFrame({'Modelo': model, 'Train score': grid_score,\n",
        "                            'Test score': cross_score, 'Parametros': params})\n",
        "    dummy_df['Test split'] = np.round(size, 1)\n",
        "\n",
        "    # Guarda los resultados para el Split respectivo\n",
        "    results.append(dummy_df)\n",
        "\n",
        "  # Resultados para el dataset respectivo\n",
        "  data_results[dataset] = pd.concat([data for data in results ]).reset_index().drop('index', axis=1)"
      ],
      "execution_count": null,
      "outputs": []
    },
    {
      "cell_type": "markdown",
      "metadata": {
        "id": "PmtZeB_Zrr4j"
      },
      "source": [
        "### **2.1. Datos no modificados (X)**\n",
        "\n",
        "Se analizan los resultados para los atributos sin modificar"
      ]
    },
    {
      "cell_type": "code",
      "metadata": {
        "colab": {
          "base_uri": "https://localhost:8080/",
          "height": 558
        },
        "id": "G5TZfQ6Vno4W",
        "outputId": "890ed6ee-47a0-4815-c32e-fa84055303df"
      },
      "source": [
        "sort_data = data_results['X'].sort_values(by=['Test score'], ascending=False)\n",
        "\n",
        "sns.lineplot(data=data_results['X'], x='Test split', y='Test score', hue='Modelo')\n",
        "plt.title(\"Dataset X\")\n",
        "plt.show()\n",
        "\n",
        "text = \"\\nEl mejor modelo es \\033[1m{}\\033[0m con un puntaje de prueba de \\033[1m{}\\033[0m\\n\\n\"\n",
        "print(text.format(sort_data.iloc[0,0], np.round(sort_data.iloc[0,2],4)))\n",
        "sort_data.head()"
      ],
      "execution_count": null,
      "outputs": [
        {
          "output_type": "display_data",
          "data": {
            "image/png": "[encoded data removed]",
            "text/plain": [
              "<Figure size 432x288 with 1 Axes>"
            ]
          },
          "metadata": {
            "needs_background": "light"
          }
        },
        {
          "output_type": "stream",
          "name": "stdout",
          "text": [
            "\n",
            "El mejor modelo es \u001b[1mRandom Forest\u001b[0m con un puntaje de prueba de \u001b[1m0.9579\u001b[0m\n",
            "\n",
            "\n"
          ]
        },
        {
          "output_type": "execute_result",
          "data": {
            "text/html": [
              "<div>\n",
              "<style scoped>\n",
              "    .dataframe tbody tr th:only-of-type {\n",
              "        vertical-align: middle;\n",
              "    }\n",
              "\n",
              "    .dataframe tbody tr th {\n",
              "        vertical-align: top;\n",
              "    }\n",
              "\n",
              "    .dataframe thead th {\n",
              "        text-align: right;\n",
              "    }\n",
              "</style>\n",
              "<table border=\"1\" class=\"dataframe\">\n",
              "  <thead>\n",
              "    <tr style=\"text-align: right;\">\n",
              "      <th></th>\n",
              "      <th>Modelo</th>\n",
              "      <th>Train score</th>\n",
              "      <th>Test score</th>\n",
              "      <th>Parametros</th>\n",
              "      <th>Test split</th>\n",
              "    </tr>\n",
              "  </thead>\n",
              "  <tbody>\n",
              "    <tr>\n",
              "      <th>15</th>\n",
              "      <td>Random Forest</td>\n",
              "      <td>0.954135</td>\n",
              "      <td>0.957895</td>\n",
              "      <td>{'criterion': 'entropy', 'n_estimators': 10}</td>\n",
              "      <td>0.5</td>\n",
              "    </tr>\n",
              "    <tr>\n",
              "      <th>23</th>\n",
              "      <td>Random Forest</td>\n",
              "      <td>0.958824</td>\n",
              "      <td>0.954887</td>\n",
              "      <td>{'criterion': 'entropy', 'n_estimators': 70}</td>\n",
              "      <td>0.7</td>\n",
              "    </tr>\n",
              "    <tr>\n",
              "      <th>19</th>\n",
              "      <td>Random Forest</td>\n",
              "      <td>0.951594</td>\n",
              "      <td>0.944444</td>\n",
              "      <td>{'criterion': 'gini', 'n_estimators': 50}</td>\n",
              "      <td>0.6</td>\n",
              "    </tr>\n",
              "    <tr>\n",
              "      <th>25</th>\n",
              "      <td>SVM</td>\n",
              "      <td>0.982213</td>\n",
              "      <td>0.942982</td>\n",
              "      <td>{'C': 0.1, 'kernel': 'linear'}</td>\n",
              "      <td>0.8</td>\n",
              "    </tr>\n",
              "    <tr>\n",
              "      <th>3</th>\n",
              "      <td>Random Forest</td>\n",
              "      <td>0.969231</td>\n",
              "      <td>0.938596</td>\n",
              "      <td>{'criterion': 'entropy', 'n_estimators': 20}</td>\n",
              "      <td>0.2</td>\n",
              "    </tr>\n",
              "  </tbody>\n",
              "</table>\n",
              "</div>"
            ],
            "text/plain": [
              "           Modelo  ...  Test split\n",
              "15  Random Forest  ...         0.5\n",
              "23  Random Forest  ...         0.7\n",
              "19  Random Forest  ...         0.6\n",
              "25            SVM  ...         0.8\n",
              "3   Random Forest  ...         0.2\n",
              "\n",
              "[5 rows x 5 columns]"
            ]
          },
          "metadata": {},
          "execution_count": 7
        }
      ]
    },
    {
      "cell_type": "markdown",
      "metadata": {
        "id": "Owgy4Py4jpDI"
      },
      "source": [
        "- Para este caso, se observa que el modelo de **Random Forest** presenta un mejor comportamiento a lo largo de los distintos split de los datos. \n",
        "\n",
        "- El puntaje de evaluación mayor es de **0.958** para los parámetros **criterion: entropy** y **n_estimators: 10** con un 50% para prueba y entrenamiento."
      ]
    },
    {
      "cell_type": "markdown",
      "metadata": {
        "id": "Dwy0LS8atCw_"
      },
      "source": [
        "### **2.2. Datos estandarizados (X_norm)**\n",
        "\n",
        "Se analizan los resultados para los atributos estandarizados"
      ]
    },
    {
      "cell_type": "code",
      "metadata": {
        "colab": {
          "base_uri": "https://localhost:8080/",
          "height": 558
        },
        "id": "3Ks-lBIPnv2K",
        "outputId": "567b7d92-79b1-44d2-f083-9b277e5d3ce6"
      },
      "source": [
        "sort_data = data_results['X norm'].sort_values(by=['Test score'], ascending=False)\n",
        "\n",
        "sns.lineplot(data=data_results['X norm'], x='Test split', y='Test score', hue='Modelo')\n",
        "plt.title(\"Dataset X estandarizado\")\n",
        "plt.show()\n",
        "\n",
        "text = \"\\nEl mejor modelo es \\033[1m{}\\033[0m con un puntaje de prueba de \\033[1m{}\\033[0m\\n\\n\"\n",
        "print(text.format(sort_data.iloc[0,0], np.round(sort_data.iloc[0,2],4)))\n",
        "sort_data.head()"
      ],
      "execution_count": null,
      "outputs": [
        {
          "output_type": "display_data",
          "data": {
            "image/png": "[encoded data removed]",
            "text/plain": [
              "<Figure size 432x288 with 1 Axes>"
            ]
          },
          "metadata": {
            "needs_background": "light"
          }
        },
        {
          "output_type": "stream",
          "name": "stdout",
          "text": [
            "\n",
            "El mejor modelo es \u001b[1mK-nearest neighbors\u001b[0m con un puntaje de prueba de \u001b[1m0.9883\u001b[0m\n",
            "\n",
            "\n"
          ]
        },
        {
          "output_type": "execute_result",
          "data": {
            "text/html": [
              "<div>\n",
              "<style scoped>\n",
              "    .dataframe tbody tr th:only-of-type {\n",
              "        vertical-align: middle;\n",
              "    }\n",
              "\n",
              "    .dataframe tbody tr th {\n",
              "        vertical-align: top;\n",
              "    }\n",
              "\n",
              "    .dataframe thead th {\n",
              "        text-align: right;\n",
              "    }\n",
              "</style>\n",
              "<table border=\"1\" class=\"dataframe\">\n",
              "  <thead>\n",
              "    <tr style=\"text-align: right;\">\n",
              "      <th></th>\n",
              "      <th>Modelo</th>\n",
              "      <th>Train score</th>\n",
              "      <th>Test score</th>\n",
              "      <th>Parametros</th>\n",
              "      <th>Test split</th>\n",
              "    </tr>\n",
              "  </thead>\n",
              "  <tbody>\n",
              "    <tr>\n",
              "      <th>16</th>\n",
              "      <td>K-nearest neighbors</td>\n",
              "      <td>0.938357</td>\n",
              "      <td>0.988304</td>\n",
              "      <td>{'n_neighbors': 8}</td>\n",
              "      <td>0.6</td>\n",
              "    </tr>\n",
              "    <tr>\n",
              "      <th>14</th>\n",
              "      <td>Logistic Regression</td>\n",
              "      <td>0.968358</td>\n",
              "      <td>0.985965</td>\n",
              "      <td>{'C': 0.1, 'solver': 'liblinear'}</td>\n",
              "      <td>0.5</td>\n",
              "    </tr>\n",
              "    <tr>\n",
              "      <th>13</th>\n",
              "      <td>SVM</td>\n",
              "      <td>0.968296</td>\n",
              "      <td>0.982456</td>\n",
              "      <td>{'C': 0.1, 'kernel': 'linear'}</td>\n",
              "      <td>0.5</td>\n",
              "    </tr>\n",
              "    <tr>\n",
              "      <th>18</th>\n",
              "      <td>Logistic Regression</td>\n",
              "      <td>0.973720</td>\n",
              "      <td>0.982456</td>\n",
              "      <td>{'C': 0.1, 'solver': 'liblinear'}</td>\n",
              "      <td>0.6</td>\n",
              "    </tr>\n",
              "    <tr>\n",
              "      <th>0</th>\n",
              "      <td>K-nearest neighbors</td>\n",
              "      <td>0.960440</td>\n",
              "      <td>0.982456</td>\n",
              "      <td>{'n_neighbors': 4}</td>\n",
              "      <td>0.2</td>\n",
              "    </tr>\n",
              "  </tbody>\n",
              "</table>\n",
              "</div>"
            ],
            "text/plain": [
              "                 Modelo  ...  Test split\n",
              "16  K-nearest neighbors  ...         0.6\n",
              "14  Logistic Regression  ...         0.5\n",
              "13                  SVM  ...         0.5\n",
              "18  Logistic Regression  ...         0.6\n",
              "0   K-nearest neighbors  ...         0.2\n",
              "\n",
              "[5 rows x 5 columns]"
            ]
          },
          "metadata": {},
          "execution_count": 8
        }
      ]
    },
    {
      "cell_type": "markdown",
      "metadata": {
        "id": "JiXColMZj6gW"
      },
      "source": [
        "- A comparación del caso anterior, el modelo de Random Forest es el que menor puntaje obtiene respecto a los otros tres clasificadores\n",
        "\n",
        "- Tanto para los modelos: logistic regression, k-nearest neighbor y SVM, se observan comportamientos relativamente similares para las diferentes particiones de los datos evaluados.\n",
        "\n",
        "- El mejor puntaje de prueba es de **0.988** obtenido para el modelo **K-nearest neighbor** con **n_neighbor: 8** y un 60% de los datos para prueba."
      ]
    },
    {
      "cell_type": "markdown",
      "metadata": {
        "id": "Par30y6sG6Zr"
      },
      "source": [
        "## **3. Reducción de atributos**\n",
        "\n",
        "Evaluado lo anterior, se analizan tres formas de reducir la dimensionalidad de los atributos:\n",
        "\n",
        "- Correlación\n",
        "- Regresión\n",
        "- Análisis univariado\n",
        "\n",
        "Para cada una de las opciones se guarda un dataset para ser evaluado y conocer si el comportamiento para los modelos evaluados mejora o no"
      ]
    },
    {
      "cell_type": "markdown",
      "metadata": {
        "id": "kUPMDpS1dagi"
      },
      "source": [
        "### **3.1. Correlación (X1)**\n",
        "\n",
        "A continuación, se evalúa la correlación de los atributos"
      ]
    },
    {
      "cell_type": "code",
      "metadata": {
        "colab": {
          "base_uri": "https://localhost:8080/",
          "height": 704
        },
        "id": "ByyyG9Yh8aj9",
        "outputId": "10e955d0-758e-4003-83f7-c623f91569cd"
      },
      "source": [
        "corr_matrix = X_norm.corr().abs()\n",
        "plt.figure(figsize=(12,10))\n",
        "mask = np.triu(np.ones_like(corr_matrix, dtype=bool))\n",
        "#cmap = sns.diverging_palette(230, 20, as_cmap=True)\n",
        "sns.heatmap(corr_matrix, mask = mask)\n",
        "plt.show()"
      ],
      "execution_count": null,
      "outputs": [
        {
          "output_type": "display_data",
          "data": {
            "image/png": "[encoded data removed]",
            "text/plain": [
              "<Figure size 864x720 with 2 Axes>"
            ]
          },
          "metadata": {
            "needs_background": "light"
          }
        }
      ]
    },
    {
      "cell_type": "markdown",
      "metadata": {
        "id": "-vrjcbYAdlJY"
      },
      "source": [
        "Se observa que existen varios atributos con una correlación alta (mayor de 0.9). Se procede a eliminar estos y se guardan (***X1***) para posterior evaluación."
      ]
    },
    {
      "cell_type": "code",
      "metadata": {
        "colab": {
          "base_uri": "https://localhost:8080/"
        },
        "id": "1p8TeortE10B",
        "outputId": "ecfd30bd-87a1-4715-d706-a9b953356afa"
      },
      "source": [
        "columns_list = np.full((corr_matrix.shape[0],), True, dtype=bool)\n",
        "\n",
        "# Umbral\n",
        "threshold = 0.9\n",
        "\n",
        "# Se extrae una de los dos atributos con correlacion mayor al umbral\n",
        "for i in range(corr_matrix.shape[0]):\n",
        "  for j in range(i+1, corr_matrix.shape[0]):\n",
        "    if corr_matrix.iloc[i,j] >= threshold:\n",
        "      if columns_list[j]:\n",
        "        columns_list[j] = False\n",
        "\n",
        "selected_columns = X_norm.columns[columns_list]\n",
        "X1 = X_norm[selected_columns]\n",
        "\n",
        "print(\"Los atributos eliminados son:\\n\")\n",
        "for i in X_norm.columns:\n",
        "  if not i in selected_columns:\n",
        "    print(i)\n",
        "\n",
        "print(\"\\nX1 presenta {} atributos\".format(X1.shape[1]))"
      ],
      "execution_count": null,
      "outputs": [
        {
          "output_type": "stream",
          "name": "stdout",
          "text": [
            "Los atributos eliminados son:\n",
            "\n",
            "perimeter_mean\n",
            "area_mean\n",
            "concave points_mean\n",
            "perimeter_se\n",
            "area_se\n",
            "radius_worst\n",
            "texture_worst\n",
            "perimeter_worst\n",
            "area_worst\n",
            "concave points_worst\n",
            "\n",
            "X1 presenta 20 atributos\n"
          ]
        }
      ]
    },
    {
      "cell_type": "markdown",
      "metadata": {
        "id": "6r_5uMVLmUSx"
      },
      "source": [
        "Para este dataset (X1) **se eliminan 10 de los 30 atributos** iniciales"
      ]
    },
    {
      "cell_type": "markdown",
      "metadata": {
        "id": "GutZXBf03d6O"
      },
      "source": [
        "### **3.2. Regresión (X2)**\n",
        "\n",
        "Se analiza la importancia de los atributos a partir de los coeficientes entregados por el modelo Lasso"
      ]
    },
    {
      "cell_type": "code",
      "metadata": {
        "colab": {
          "base_uri": "https://localhost:8080/"
        },
        "id": "oHau3sW4rU17",
        "outputId": "408c2e6f-638e-4e7d-afcc-5d9ebd2d336a"
      },
      "source": [
        "from sklearn.linear_model import LassoCV\n",
        "\n",
        "lasso = LassoCV(tol=1e-2, random_state=4).fit(X_norm, y)\n",
        "importance = np.abs(lasso.coef_)\n",
        "feature_names = np.array(X_norm.columns)\n",
        "\n",
        "feats = {}\n",
        "\n",
        "for feature, imp in zip(X_norm.columns, importance):\n",
        "  feats[feature] = imp\n",
        "\n",
        "# Serie con los atributos ordenados con mayor importancia\n",
        "feats_serie = pd.Series(feats).sort_values(ascending=False)\n",
        "\n",
        "# Se descartan los atributos con importancia menor a 0.01\n",
        "feats_serie = feats_serie.loc[feats_serie.values > 0.01]\n",
        "X2 = X_norm[feats_serie.index]\n",
        "\n",
        "print(\"\\nX2 presenta {} atributos\".format(X2.shape[1]))"
      ],
      "execution_count": null,
      "outputs": [
        {
          "output_type": "stream",
          "name": "stdout",
          "text": [
            "\n",
            "X2 presenta 21 atributos\n"
          ]
        }
      ]
    },
    {
      "cell_type": "markdown",
      "metadata": {
        "id": "QNkERAGjmeFX"
      },
      "source": [
        "Mediante este método **se eliminan 9 de los 30 atributos** según la magnitud de los coeficientes del modelo"
      ]
    },
    {
      "cell_type": "markdown",
      "metadata": {
        "id": "i2jr1Aa0IZ8l"
      },
      "source": [
        "### **3.3. Análisis univariado (X3)**\n",
        "\n",
        "Ahora se seleccionan atributos en base a pruebas estadística univariadas. Se tiene en cuenta lo siguiente:\n",
        "\n",
        "- Para **regresiones** se tienen las siguientes métricas: f_regression, mutual_info_regression\n",
        "\n",
        "- Para **clasificación**: chi2, f_classif, mutual_info_classif\n",
        "\n",
        "Ref: [univariate-feature-selection | sklearn](https://scikit-learn.org/stable/modules/feature_selection.html#univariate-feature-selection)\n"
      ]
    },
    {
      "cell_type": "code",
      "metadata": {
        "colab": {
          "base_uri": "https://localhost:8080/"
        },
        "id": "nJoVKYabN4XM",
        "outputId": "04f7160f-054e-44d8-a29b-efb747b6bd4d"
      },
      "source": [
        "from sklearn.feature_selection import SelectKBest\n",
        "from sklearn.feature_selection import chi2\n",
        "\n",
        "selector = SelectKBest(chi2, k=10).fit(X,y)\n",
        "X3 = X_norm[X_norm.columns[selector.get_support()]]\n",
        "print(\"\\nX1 presenta {} atributos\".format(X3.shape[1]))"
      ],
      "execution_count": null,
      "outputs": [
        {
          "output_type": "stream",
          "name": "stdout",
          "text": [
            "\n",
            "X1 presenta 10 atributos\n"
          ]
        }
      ]
    },
    {
      "cell_type": "markdown",
      "metadata": {
        "id": "UIEK-VFbmxs2"
      },
      "source": [
        "En este caso, se deciden escoger los 10 mejores atributos a partir del análisis Chi2"
      ]
    },
    {
      "cell_type": "markdown",
      "metadata": {
        "id": "W_6AkItAWag7"
      },
      "source": [
        "## **4. Evaluación de atributos**\n",
        "\n",
        "Se evalúan los datasets (X1, X2, X3) a partir de un análisis exploratorio para conocer cual aporta mayor información y por ende puede llegar a mejorar la construcción del modelo definitivo."
      ]
    },
    {
      "cell_type": "code",
      "metadata": {
        "id": "IVegSZnd6QtG"
      },
      "source": [
        "data_results_2 = {}\n",
        "datasets = {'X1': X1, 'X2': X2, 'X3': X3}\n",
        "\n",
        "for dataset in datasets:\n",
        "  results = []\n",
        "  feats = datasets[dataset]\n",
        "  for size in data_split:\n",
        "    # Se divide el dataset\n",
        "    X_train, X_test, y_train, y_test = train_test_split(feats, y, test_size = size, random_state=4)\n",
        "\n",
        "    model = []\n",
        "    grid_score = []\n",
        "    cross_score = []\n",
        "    params = []\n",
        "\n",
        "    for model_name, values in model_params.items():\n",
        "      clf = GridSearchCV(values['model'], values['params'], cv=5)\n",
        "      clf.fit(X_train, y_train)\n",
        "      \n",
        "      #test_score = cross_validate(clf.best_estimator_, X_test, y_test, scoring='accuracy', cv = 5)\n",
        "\n",
        "      model.append(model_name)\n",
        "      grid_score.append(clf.best_score_)\n",
        "      #cross_score.append(np.mean(test_score['test_score']))\n",
        "      cross_score.append(clf.score(X_test, y_test))\n",
        "      params.append(clf.best_params_)\n",
        "\n",
        "    dummy_df = pd.DataFrame({'Modelo': model, 'Train score': grid_score,\n",
        "                            'Test score': cross_score, 'Parametros': params})\n",
        "    dummy_df['Test split'] = np.round(size, 1)\n",
        "\n",
        "    # Guarda los resultados para el Split respectivo\n",
        "    results.append(dummy_df)\n",
        "\n",
        "  # Resultados para el dataset respectivo\n",
        "  data_results_2[dataset] = pd.concat([data for data in results ]).reset_index().drop('index', axis=1)"
      ],
      "execution_count": null,
      "outputs": []
    },
    {
      "cell_type": "markdown",
      "metadata": {
        "id": "480xpN8N8VeD"
      },
      "source": [
        "### **4.1. Dataset - X1**"
      ]
    },
    {
      "cell_type": "code",
      "metadata": {
        "colab": {
          "base_uri": "https://localhost:8080/",
          "height": 558
        },
        "id": "Z2SR_gwr8ao1",
        "outputId": "444ee453-bc55-4338-b756-ea8ddac7f9f6"
      },
      "source": [
        "sort_data = data_results_2['X1'].sort_values(by=['Test score'], ascending=False)\n",
        "\n",
        "sns.lineplot(data=data_results_2['X1'], x='Test split', y='Test score', hue='Modelo')\n",
        "plt.title(\"Dataset X1\")\n",
        "plt.show()\n",
        "\n",
        "text = \"\\nEl mejor modelo es \\033[1m{}\\033[0m con un puntaje de prueba de \\033[1m{}\\033[0m\\n\\n\"\n",
        "print(text.format(sort_data.iloc[0,0], np.round(sort_data.iloc[0,2],4)))\n",
        "sort_data.head()"
      ],
      "execution_count": null,
      "outputs": [
        {
          "output_type": "display_data",
          "data": {
            "image/png": "[encoded data removed]",
            "text/plain": [
              "<Figure size 432x288 with 1 Axes>"
            ]
          },
          "metadata": {
            "needs_background": "light"
          }
        },
        {
          "output_type": "stream",
          "name": "stdout",
          "text": [
            "\n",
            "El mejor modelo es \u001b[1mSVM\u001b[0m con un puntaje de prueba de \u001b[1m0.9895\u001b[0m\n",
            "\n",
            "\n"
          ]
        },
        {
          "output_type": "execute_result",
          "data": {
            "text/html": [
              "<div>\n",
              "<style scoped>\n",
              "    .dataframe tbody tr th:only-of-type {\n",
              "        vertical-align: middle;\n",
              "    }\n",
              "\n",
              "    .dataframe tbody tr th {\n",
              "        vertical-align: top;\n",
              "    }\n",
              "\n",
              "    .dataframe thead th {\n",
              "        text-align: right;\n",
              "    }\n",
              "</style>\n",
              "<table border=\"1\" class=\"dataframe\">\n",
              "  <thead>\n",
              "    <tr style=\"text-align: right;\">\n",
              "      <th></th>\n",
              "      <th>Modelo</th>\n",
              "      <th>Train score</th>\n",
              "      <th>Test score</th>\n",
              "      <th>Parametros</th>\n",
              "      <th>Test split</th>\n",
              "    </tr>\n",
              "  </thead>\n",
              "  <tbody>\n",
              "    <tr>\n",
              "      <th>13</th>\n",
              "      <td>SVM</td>\n",
              "      <td>0.961278</td>\n",
              "      <td>0.989474</td>\n",
              "      <td>{'C': 0.1, 'kernel': 'linear'}</td>\n",
              "      <td>0.5</td>\n",
              "    </tr>\n",
              "    <tr>\n",
              "      <th>0</th>\n",
              "      <td>K-nearest neighbors</td>\n",
              "      <td>0.945055</td>\n",
              "      <td>0.982456</td>\n",
              "      <td>{'n_neighbors': 10}</td>\n",
              "      <td>0.2</td>\n",
              "    </tr>\n",
              "    <tr>\n",
              "      <th>5</th>\n",
              "      <td>SVM</td>\n",
              "      <td>0.974810</td>\n",
              "      <td>0.982456</td>\n",
              "      <td>{'C': 0.1, 'kernel': 'linear'}</td>\n",
              "      <td>0.3</td>\n",
              "    </tr>\n",
              "    <tr>\n",
              "      <th>6</th>\n",
              "      <td>Logistic Regression</td>\n",
              "      <td>0.969842</td>\n",
              "      <td>0.982456</td>\n",
              "      <td>{'C': 0.1, 'solver': 'newton-cg'}</td>\n",
              "      <td>0.3</td>\n",
              "    </tr>\n",
              "    <tr>\n",
              "      <th>14</th>\n",
              "      <td>Logistic Regression</td>\n",
              "      <td>0.954323</td>\n",
              "      <td>0.982456</td>\n",
              "      <td>{'C': 0.1, 'solver': 'newton-cg'}</td>\n",
              "      <td>0.5</td>\n",
              "    </tr>\n",
              "  </tbody>\n",
              "</table>\n",
              "</div>"
            ],
            "text/plain": [
              "                 Modelo  ...  Test split\n",
              "13                  SVM  ...         0.5\n",
              "0   K-nearest neighbors  ...         0.2\n",
              "5                   SVM  ...         0.3\n",
              "6   Logistic Regression  ...         0.3\n",
              "14  Logistic Regression  ...         0.5\n",
              "\n",
              "[5 rows x 5 columns]"
            ]
          },
          "metadata": {},
          "execution_count": 14
        }
      ]
    },
    {
      "cell_type": "markdown",
      "metadata": {
        "id": "yjU7BO_WwTTM"
      },
      "source": [
        "- Los modelos Logistic Regression y SVM presentan comportamientos similares hasta una proporción de 40% para prueba.\n",
        "\n",
        "- Para el 50% de los datos para entrenamiento y prueba se observa el puntaje máximo de **0.989** para el modelo **SVM** con los parámetros **C: 0.1** y **kernel: linear**"
      ]
    },
    {
      "cell_type": "markdown",
      "metadata": {
        "id": "BKMlPMTK8pqQ"
      },
      "source": [
        "### **4.2. Dataset - X2**"
      ]
    },
    {
      "cell_type": "code",
      "metadata": {
        "colab": {
          "base_uri": "https://localhost:8080/",
          "height": 558
        },
        "id": "dWCZvg7l8u59",
        "outputId": "190ffcc6-0140-4c10-82ee-00ec32933d6a"
      },
      "source": [
        "sort_data = data_results_2['X2'].sort_values(by=['Test score'], ascending=False)\n",
        "\n",
        "sns.lineplot(data=data_results_2['X2'], x='Test split', y='Test score', hue='Modelo')\n",
        "plt.title(\"Dataset X2\")\n",
        "plt.show()\n",
        "\n",
        "text = \"\\nEl mejor modelo es \\033[1m{}\\033[0m con un puntaje de prueba de \\033[1m{}\\033[0m\\n\\n\"\n",
        "print(text.format(sort_data.iloc[0,0], np.round(sort_data.iloc[0,2],4)))\n",
        "sort_data.head()"
      ],
      "execution_count": null,
      "outputs": [
        {
          "output_type": "display_data",
          "data": {
            "image/png": "[encoded data removed]",
            "text/plain": [
              "<Figure size 432x288 with 1 Axes>"
            ]
          },
          "metadata": {
            "needs_background": "light"
          }
        },
        {
          "output_type": "stream",
          "name": "stdout",
          "text": [
            "\n",
            "El mejor modelo es \u001b[1mK-nearest neighbors\u001b[0m con un puntaje de prueba de \u001b[1m0.9942\u001b[0m\n",
            "\n",
            "\n"
          ]
        },
        {
          "output_type": "execute_result",
          "data": {
            "text/html": [
              "<div>\n",
              "<style scoped>\n",
              "    .dataframe tbody tr th:only-of-type {\n",
              "        vertical-align: middle;\n",
              "    }\n",
              "\n",
              "    .dataframe tbody tr th {\n",
              "        vertical-align: top;\n",
              "    }\n",
              "\n",
              "    .dataframe thead th {\n",
              "        text-align: right;\n",
              "    }\n",
              "</style>\n",
              "<table border=\"1\" class=\"dataframe\">\n",
              "  <thead>\n",
              "    <tr style=\"text-align: right;\">\n",
              "      <th></th>\n",
              "      <th>Modelo</th>\n",
              "      <th>Train score</th>\n",
              "      <th>Test score</th>\n",
              "      <th>Parametros</th>\n",
              "      <th>Test split</th>\n",
              "    </tr>\n",
              "  </thead>\n",
              "  <tbody>\n",
              "    <tr>\n",
              "      <th>4</th>\n",
              "      <td>K-nearest neighbors</td>\n",
              "      <td>0.959778</td>\n",
              "      <td>0.994152</td>\n",
              "      <td>{'n_neighbors': 16}</td>\n",
              "      <td>0.3</td>\n",
              "    </tr>\n",
              "    <tr>\n",
              "      <th>0</th>\n",
              "      <td>K-nearest neighbors</td>\n",
              "      <td>0.962637</td>\n",
              "      <td>0.991228</td>\n",
              "      <td>{'n_neighbors': 12}</td>\n",
              "      <td>0.2</td>\n",
              "    </tr>\n",
              "    <tr>\n",
              "      <th>8</th>\n",
              "      <td>K-nearest neighbors</td>\n",
              "      <td>0.961850</td>\n",
              "      <td>0.986842</td>\n",
              "      <td>{'n_neighbors': 10}</td>\n",
              "      <td>0.4</td>\n",
              "    </tr>\n",
              "    <tr>\n",
              "      <th>13</th>\n",
              "      <td>SVM</td>\n",
              "      <td>0.975376</td>\n",
              "      <td>0.985965</td>\n",
              "      <td>{'C': 0.1, 'kernel': 'linear'}</td>\n",
              "      <td>0.5</td>\n",
              "    </tr>\n",
              "    <tr>\n",
              "      <th>16</th>\n",
              "      <td>K-nearest neighbors</td>\n",
              "      <td>0.947053</td>\n",
              "      <td>0.985380</td>\n",
              "      <td>{'n_neighbors': 14}</td>\n",
              "      <td>0.6</td>\n",
              "    </tr>\n",
              "  </tbody>\n",
              "</table>\n",
              "</div>"
            ],
            "text/plain": [
              "                 Modelo  ...  Test split\n",
              "4   K-nearest neighbors  ...         0.3\n",
              "0   K-nearest neighbors  ...         0.2\n",
              "8   K-nearest neighbors  ...         0.4\n",
              "13                  SVM  ...         0.5\n",
              "16  K-nearest neighbors  ...         0.6\n",
              "\n",
              "[5 rows x 5 columns]"
            ]
          },
          "metadata": {},
          "execution_count": 15
        }
      ]
    },
    {
      "cell_type": "markdown",
      "metadata": {
        "id": "YALy_gRtxCew"
      },
      "source": [
        "- Para este conjunto de atributos el modelo que más resalta es **K-nearest neighbor** cuyo puntaje máximo es de **0.994** para **n_neighbor: 16** y un 30% de los datos para prueba."
      ]
    },
    {
      "cell_type": "markdown",
      "metadata": {
        "id": "tYcKZVqv8ryj"
      },
      "source": [
        "### **4.3. Dataset - X3**"
      ]
    },
    {
      "cell_type": "code",
      "metadata": {
        "colab": {
          "base_uri": "https://localhost:8080/",
          "height": 558
        },
        "id": "Cn_KdGzd8416",
        "outputId": "849ba3be-271b-478e-f32c-bf0f2654b2b1"
      },
      "source": [
        "sort_data = data_results_2['X3'].sort_values(by=['Test score'], ascending=False)\n",
        "\n",
        "sns.lineplot(data=data_results_2['X3'], x='Test split', y='Test score', hue='Modelo')\n",
        "plt.title(\"Dataset X3\")\n",
        "plt.show()\n",
        "\n",
        "text = \"\\nEl mejor modelo es \\033[1m{}\\033[0m con un puntaje de prueba de \\033[1m{}\\033[0m\\n\\n\"\n",
        "print(text.format(sort_data.iloc[0,0], np.round(sort_data.iloc[0,2],4)))\n",
        "sort_data.head()"
      ],
      "execution_count": null,
      "outputs": [
        {
          "output_type": "display_data",
          "data": {
            "image/png": "[encoded data removed]",
            "text/plain": [
              "<Figure size 432x288 with 1 Axes>"
            ]
          },
          "metadata": {
            "needs_background": "light"
          }
        },
        {
          "output_type": "stream",
          "name": "stdout",
          "text": [
            "\n",
            "El mejor modelo es \u001b[1mLogistic Regression\u001b[0m con un puntaje de prueba de \u001b[1m0.9444\u001b[0m\n",
            "\n",
            "\n"
          ]
        },
        {
          "output_type": "execute_result",
          "data": {
            "text/html": [
              "<div>\n",
              "<style scoped>\n",
              "    .dataframe tbody tr th:only-of-type {\n",
              "        vertical-align: middle;\n",
              "    }\n",
              "\n",
              "    .dataframe tbody tr th {\n",
              "        vertical-align: top;\n",
              "    }\n",
              "\n",
              "    .dataframe thead th {\n",
              "        text-align: right;\n",
              "    }\n",
              "</style>\n",
              "<table border=\"1\" class=\"dataframe\">\n",
              "  <thead>\n",
              "    <tr style=\"text-align: right;\">\n",
              "      <th></th>\n",
              "      <th>Modelo</th>\n",
              "      <th>Train score</th>\n",
              "      <th>Test score</th>\n",
              "      <th>Parametros</th>\n",
              "      <th>Test split</th>\n",
              "    </tr>\n",
              "  </thead>\n",
              "  <tbody>\n",
              "    <tr>\n",
              "      <th>18</th>\n",
              "      <td>Logistic Regression</td>\n",
              "      <td>0.951691</td>\n",
              "      <td>0.944444</td>\n",
              "      <td>{'C': 1, 'solver': 'liblinear'}</td>\n",
              "      <td>0.6</td>\n",
              "    </tr>\n",
              "    <tr>\n",
              "      <th>4</th>\n",
              "      <td>K-nearest neighbors</td>\n",
              "      <td>0.939715</td>\n",
              "      <td>0.941520</td>\n",
              "      <td>{'n_neighbors': 24}</td>\n",
              "      <td>0.3</td>\n",
              "    </tr>\n",
              "    <tr>\n",
              "      <th>16</th>\n",
              "      <td>K-nearest neighbors</td>\n",
              "      <td>0.951691</td>\n",
              "      <td>0.941520</td>\n",
              "      <td>{'n_neighbors': 14}</td>\n",
              "      <td>0.6</td>\n",
              "    </tr>\n",
              "    <tr>\n",
              "      <th>17</th>\n",
              "      <td>SVM</td>\n",
              "      <td>0.951691</td>\n",
              "      <td>0.938596</td>\n",
              "      <td>{'C': 1, 'kernel': 'linear'}</td>\n",
              "      <td>0.6</td>\n",
              "    </tr>\n",
              "    <tr>\n",
              "      <th>1</th>\n",
              "      <td>SVM</td>\n",
              "      <td>0.956044</td>\n",
              "      <td>0.938596</td>\n",
              "      <td>{'C': 10, 'kernel': 'rbf'}</td>\n",
              "      <td>0.2</td>\n",
              "    </tr>\n",
              "  </tbody>\n",
              "</table>\n",
              "</div>"
            ],
            "text/plain": [
              "                 Modelo  ...  Test split\n",
              "18  Logistic Regression  ...         0.6\n",
              "4   K-nearest neighbors  ...         0.3\n",
              "16  K-nearest neighbors  ...         0.6\n",
              "17                  SVM  ...         0.6\n",
              "1                   SVM  ...         0.2\n",
              "\n",
              "[5 rows x 5 columns]"
            ]
          },
          "metadata": {},
          "execution_count": 16
        }
      ]
    },
    {
      "cell_type": "markdown",
      "metadata": {
        "id": "cVSTMMukxkm6"
      },
      "source": [
        "- El puntaje máximo es de **0.944** y se obtiene para el modelo **Logistic Regression** con los parámetros **C: 1** y **solver: liblinear** con un 60% de los datos para prueba."
      ]
    },
    {
      "cell_type": "markdown",
      "metadata": {
        "id": "W7ZAwOnxIMyo"
      },
      "source": [
        "## **5. Modelo final**\n",
        "\n",
        "A partir de la evaluación para cada uno de los dataset con los atributos reducidos, se elige el **conjunto X2**, el modelo **K-nearest neighbor** para **k = 16** y un **30% de los datos para prueba**."
      ]
    },
    {
      "cell_type": "code",
      "metadata": {
        "colab": {
          "base_uri": "https://localhost:8080/",
          "height": 387
        },
        "id": "oiqXc5_c1oLO",
        "outputId": "92722a40-0ef5-4449-a6db-fee33a7270cc"
      },
      "source": [
        "# Se divide el dataset\n",
        "X_train, X_test, y_train, y_test = train_test_split(X2, y, test_size = 0.3, random_state=4)\n",
        "\n",
        "# Entrenamiento del modelo y predicción\n",
        "final_clf = KNeighborsClassifier(n_neighbors = 16).fit(X_train,y_train)\n",
        "yhat=final_clf.predict(X_test)\n",
        "\n",
        "# Matriz de confusión\n",
        "matrix = pd.crosstab(le.inverse_transform(y_test), le.inverse_transform(yhat), \n",
        "                               rownames=['Observación'], colnames=['Predicción'])\n",
        "\n",
        "sns.heatmap(matrix, annot=True)\n",
        "plt.title(\"Matriz de confusión\")\n",
        "plt.show()\n",
        "\n",
        "# Se obtienen la cuenta para cada condicion\n",
        "TP_count = matrix.iloc[0]['B']\n",
        "FN_count = matrix.iloc[0]['M']\n",
        "FP_count = matrix.iloc[1]['B']\n",
        "TN_count = matrix.iloc[1]['M']\n",
        "\n",
        "exactitud = (TP_count + TN_count) / (TP_count + TN_count + FN_count + FP_count)\n",
        "precision = (TP_count) / (TP_count + FP_count)\n",
        "recall = (TP_count) / (TP_count + FN_count)\n",
        "F1_score = (2*precision*recall) / (precision + recall)\n",
        "\n",
        "print(\"\\nExactitud = \" + str(exactitud))\n",
        "print(\"Precision = \" + str(precision))\n",
        "print(\"Recall = \" + str(recall))\n",
        "print(\"F1-Score = \" + str(F1_score))"
      ],
      "execution_count": null,
      "outputs": [
        {
          "output_type": "display_data",
          "data": {
            "image/png": "[encoded data removed]",
            "text/plain": [
              "<Figure size 432x288 with 2 Axes>"
            ]
          },
          "metadata": {
            "needs_background": "light"
          }
        },
        {
          "output_type": "stream",
          "name": "stdout",
          "text": [
            "\n",
            "Exactitud = 0.9941520467836257\n",
            "Precision = 0.9915254237288136\n",
            "Recall = 1.0\n",
            "F1-Score = 0.9957446808510638\n"
          ]
        }
      ]
    },
    {
      "cell_type": "markdown",
      "metadata": {
        "id": "56QE_o4526AC"
      },
      "source": [
        "## **Conclusiones**\n",
        "\n",
        "- El mejor se obtiene para un dataset con 21 de los 30 atributos iniciales obtenidos a través de un análisis de importancia por medio del modelo Lasso.\n",
        "\n",
        "- El modelo final arroja una exactitud y F1-Score superior a 0.99 para el clasificador k-nearest neighbor con k = 16 y un 70% de los datos para entrenamiento. \n",
        "\n",
        "- Al momento de definir el número de k-vecinos más cercanos (n_neighbors) se debe tener en cuenta que este sea menor al número de observaciones de los datos de entrenamiento y validación (según la validación cruzada con GridSearchCV)\n",
        "\n",
        "- En la selección de los atributos con el modelo Lasso se establece un umbral de 0.01 con el cual se deciden el número de columnas que se eliminan. Sin embargo, este valor se puede variar y evaluar la cantidad de atributos reducidos junto al comportamiento del modelo.\n",
        "\n",
        "- De igual forma para el análisis univariado, se seleccionan los diez (10) atributos más importantes según la prueba Chi2. Sin embargo, en la evaluación se observa que es el conjunto de datos que menor puntaje obtiene. Esto puede ser a que la prueba estadística usada no es la más adecuada para el dataset o que al elegir solo 10 atributos se eliminan otros que contengan información de valor en el modelo."
      ]
    },
    {
      "cell_type": "markdown",
      "metadata": {
        "id": "h0eOJGLYJzsP"
      },
      "source": [
        "# Links de interés"
      ]
    },
    {
      "cell_type": "markdown",
      "metadata": {
        "id": "uugNcXJJ-Ct4"
      },
      "source": [
        "- [Correlation feature selection](https://towardsdatascience.com/feature-selection-correlation-and-p-value-da8921bfb3cf): blog sobre la selección de atributos según su correlación y valor P\n",
        "\n",
        "- [Sklearn: Ensemble](https://scikit-learn.org/stable/modules/ensemble.html): distintos métodos de ensambles disponibles en sklearn\n",
        "\n",
        "- [forest importances | sklearn](https://scikit-learn.org/stable/auto_examples/ensemble/plot_forest_importances.html): análisis de la importancia de atributos a través del modelo RandomForest con sklearn"
      ]
    }
  ]
}
