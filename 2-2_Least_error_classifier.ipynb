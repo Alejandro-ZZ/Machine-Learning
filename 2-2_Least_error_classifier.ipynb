{
  "nbformat": 4,
  "nbformat_minor": 0,
  "metadata": {
    "colab": {
      "name": "2-2_Least_error_classifier.ipynb",
      "provenance": [],
      "collapsed_sections": [],
      "toc_visible": true,
      "authorship_tag": "ABX9TyNhma6q7cMkh7bGWrKrXI0J",
      "include_colab_link": true
    },
    "kernelspec": {
      "name": "python3",
      "display_name": "Python 3"
    },
    "language_info": {
      "name": "python"
    }
  },
  "cells": [
    {
      "cell_type": "markdown",
      "metadata": {
        "id": "view-in-github",
        "colab_type": "text"
      },
      "source": [
        "<a href=\"https://colab.research.google.com/github/Alejandro-ZZ/Machine-Learning-UNS/blob/master/2-2_Least_error_classifier.ipynb\" target=\"_parent\"><img src=\"https://colab.research.google.com/assets/colab-badge.svg\" alt=\"Open In Colab\"/></a>"
      ]
    },
    {
      "cell_type": "markdown",
      "metadata": {
        "id": "479CXinYlabh"
      },
      "source": [
        "# **Ejercicio 2 - Clasificador por mínimo error**"
      ]
    },
    {
      "cell_type": "markdown",
      "metadata": {
        "id": "MXghOL94mQYd"
      },
      "source": [
        "A continuación, se realiza un clasificador por mínimo error por medio de la **curva ROC**.\n",
        "<br><br>\n",
        "Los datasets se generan con una **distribución Gaussiana** (dado una media y una DS). Se realizarán pruebas modificando los parámetros ($\\mu$ y $\\sigma$).\n",
        "<br><br>\n",
        "La calidad de la clasificación en todos los casos se evalúa a partir de los parámetros: **precisión, exactitud y F1-score**."
      ]
    },
    {
      "cell_type": "markdown",
      "metadata": {
        "id": "ggXkmcp7lyF9"
      },
      "source": [
        "## **Dataset #1**\n",
        "\n",
        "Se generan dos datasets con diferente media ($\\mu$) y desviación estándar ($\\sigma$) con una muestra de 50 cada uno (**N=50 c/u**). Estos dos conjuntos se les asignan etiquetas A y B respectivamente.\n",
        "\n"
      ]
    },
    {
      "cell_type": "code",
      "metadata": {
        "colab": {
          "base_uri": "https://localhost:8080/",
          "height": 582
        },
        "id": "QNsrxj3ZlHCf",
        "outputId": "03f1b53d-c4ea-4888-888f-4f95723c180f"
      },
      "source": [
        "import numpy as np\n",
        "import pandas as pd\n",
        "import seaborn as sns\n",
        "import plotly as plt\n",
        "\n",
        "mu1, sigma1 = 6, 2\n",
        "mu2, sigma2 = 10, 3\n",
        "N = 50\n",
        "\n",
        "np.random.seed(1)\n",
        "label_A = pd.DataFrame(np.random.normal(loc = mu1, scale = sigma1, size = (N,1)),\n",
        "                        columns=['Val'])\n",
        "label_A['Etiq'] = 'A'\n",
        "\n",
        "label_B = pd.DataFrame(np.random.normal(loc = mu2, scale = sigma2, size = (N,1)),\n",
        "                        columns=['Val'])\n",
        "label_B['Etiq'] = 'B'\n",
        "\n",
        "label_A.hist()\n",
        "label_B.hist()"
      ],
      "execution_count": null,
      "outputs": [
        {
          "output_type": "execute_result",
          "data": {
            "text/plain": [
              "array([[<matplotlib.axes._subplots.AxesSubplot object at 0x7f86430a74d0>]],\n",
              "      dtype=object)"
            ]
          },
          "metadata": {},
          "execution_count": 1
        },
        {
          "output_type": "display_data",
          "data": {
            "image/png": "[encoded data removed]",
            "text/plain": [
              "<Figure size 432x288 with 1 Axes>"
            ]
          },
          "metadata": {
            "needs_background": "light"
          }
        },
        {
          "output_type": "display_data",
          "data": {
            "image/png": "[encoded data removed]",
            "text/plain": [
              "<Figure size 432x288 with 1 Axes>"
            ]
          },
          "metadata": {
            "needs_background": "light"
          }
        }
      ]
    },
    {
      "cell_type": "markdown",
      "metadata": {
        "id": "WXAMlNYt9A8h"
      },
      "source": [
        "Se unen los dos dataset en un solo dataframe y se grafica su distribución\n"
      ]
    },
    {
      "cell_type": "code",
      "metadata": {
        "id": "r6M7qi53uH36",
        "colab": {
          "base_uri": "https://localhost:8080/",
          "height": 776
        },
        "outputId": "10894082-97d9-4ead-af92-3252a851097d"
      },
      "source": [
        "dataset = pd.concat([label_A, label_B])\n",
        "dataset = dataset.sort_values(by = 'Val', ascending=False)\n",
        "dataset = dataset.reset_index().drop('index', axis=1)\n",
        "\n",
        "sns.displot(data=dataset, x='Val', hue='Etiq', kind='kde', fill=True)\n",
        "dataset"
      ],
      "execution_count": null,
      "outputs": [
        {
          "output_type": "execute_result",
          "data": {
            "text/html": [
              "<div>\n",
              "<style scoped>\n",
              "    .dataframe tbody tr th:only-of-type {\n",
              "        vertical-align: middle;\n",
              "    }\n",
              "\n",
              "    .dataframe tbody tr th {\n",
              "        vertical-align: top;\n",
              "    }\n",
              "\n",
              "    .dataframe thead th {\n",
              "        text-align: right;\n",
              "    }\n",
              "</style>\n",
              "<table border=\"1\" class=\"dataframe\">\n",
              "  <thead>\n",
              "    <tr style=\"text-align: right;\">\n",
              "      <th></th>\n",
              "      <th>Val</th>\n",
              "      <th>Etiq</th>\n",
              "    </tr>\n",
              "  </thead>\n",
              "  <tbody>\n",
              "    <tr>\n",
              "      <th>0</th>\n",
              "      <td>16.556726</td>\n",
              "      <td>B</td>\n",
              "    </tr>\n",
              "    <tr>\n",
              "      <th>1</th>\n",
              "      <td>14.559450</td>\n",
              "      <td>B</td>\n",
              "    </tr>\n",
              "    <tr>\n",
              "      <th>2</th>\n",
              "      <td>13.758604</td>\n",
              "      <td>B</td>\n",
              "    </tr>\n",
              "    <tr>\n",
              "      <th>3</th>\n",
              "      <td>13.596754</td>\n",
              "      <td>B</td>\n",
              "    </tr>\n",
              "    <tr>\n",
              "      <th>4</th>\n",
              "      <td>13.394888</td>\n",
              "      <td>B</td>\n",
              "    </tr>\n",
              "    <tr>\n",
              "      <th>...</th>\n",
              "      <td>...</td>\n",
              "      <td>...</td>\n",
              "    </tr>\n",
              "    <tr>\n",
              "      <th>95</th>\n",
              "      <td>3.800217</td>\n",
              "      <td>A</td>\n",
              "    </tr>\n",
              "    <tr>\n",
              "      <th>96</th>\n",
              "      <td>3.798762</td>\n",
              "      <td>A</td>\n",
              "    </tr>\n",
              "    <tr>\n",
              "      <th>97</th>\n",
              "      <td>3.765379</td>\n",
              "      <td>A</td>\n",
              "    </tr>\n",
              "    <tr>\n",
              "      <th>98</th>\n",
              "      <td>1.879719</td>\n",
              "      <td>A</td>\n",
              "    </tr>\n",
              "    <tr>\n",
              "      <th>99</th>\n",
              "      <td>1.396923</td>\n",
              "      <td>A</td>\n",
              "    </tr>\n",
              "  </tbody>\n",
              "</table>\n",
              "<p>100 rows × 2 columns</p>\n",
              "</div>"
            ],
            "text/plain": [
              "          Val Etiq\n",
              "0   16.556726    B\n",
              "1   14.559450    B\n",
              "2   13.758604    B\n",
              "3   13.596754    B\n",
              "4   13.394888    B\n",
              "..        ...  ...\n",
              "95   3.800217    A\n",
              "96   3.798762    A\n",
              "97   3.765379    A\n",
              "98   1.879719    A\n",
              "99   1.396923    A\n",
              "\n",
              "[100 rows x 2 columns]"
            ]
          },
          "metadata": {},
          "execution_count": 16
        },
        {
          "output_type": "display_data",
          "data": {
            "image/png": "[encoded data removed]",
            "text/plain": [
              "<Figure size 402.875x360 with 1 Axes>"
            ]
          },
          "metadata": {
            "needs_background": "light"
          }
        }
      ]
    },
    {
      "cell_type": "markdown",
      "metadata": {
        "id": "G8HGC13N9WWZ"
      },
      "source": [
        "### **Umbral**\n",
        "\n",
        "#### 1. Gráfica de la curva ROC. Se asumen como etiqueta TruePositive(TP) como **B** y FalsePositive(FP) como **A**\n"
      ]
    },
    {
      "cell_type": "code",
      "metadata": {
        "colab": {
          "base_uri": "https://localhost:8080/",
          "height": 279
        },
        "id": "mYshkQ0Ec2TI",
        "outputId": "d0099723-57fa-4a26-bfc2-a095d84eef23"
      },
      "source": [
        "import matplotlib.pyplot as plt\n",
        "tpr = []\n",
        "fpr = []\n",
        "TP = 0\n",
        "FP = 0\n",
        "for row in dataset.itertuples():\n",
        "  #print(row.Etiq)\n",
        "  if row.Etiq == 'A':\n",
        "    FP = FP + 1\n",
        "  else:\n",
        "    TP = TP + 1\n",
        "  tpr.append(TP/N)\n",
        "  fpr.append(FP/N)\n",
        "\n",
        "plt.plot(fpr, tpr)\n",
        "plt.xlabel(\"FPR(A)\")\n",
        "plt.ylabel(\"TPR(B)\")\n",
        "plt.show()"
      ],
      "execution_count": null,
      "outputs": [
        {
          "output_type": "display_data",
          "data": {
            "image/png": "[encoded data removed]",
            "text/plain": [
              "<Figure size 432x288 with 1 Axes>"
            ]
          },
          "metadata": {
            "needs_background": "light"
          }
        }
      ]
    },
    {
      "cell_type": "markdown",
      "metadata": {
        "id": "551ddnGMy1mI"
      },
      "source": [
        "#### 2. Línea tangencial a la curva ROC\n",
        "\n",
        "Se traza una línea de un sistema aleatorio que corte la curva ROC"
      ]
    },
    {
      "cell_type": "code",
      "metadata": {
        "colab": {
          "base_uri": "https://localhost:8080/",
          "height": 279
        },
        "id": "vz-J2sZEhIta",
        "outputId": "aa8ac1a2-8580-4bd3-bf27-8c2dbfc35103"
      },
      "source": [
        "fpr_thr = np.arange(0.0, 1.0, .01)\n",
        "tpr_thr = np.arange(1.0, 0.0, -.01)\n",
        "\n",
        "plt.plot(fpr_thr, tpr_thr)\n",
        "plt.plot(fpr, tpr)\n",
        "plt.xlabel(\"FPR(A)\")\n",
        "plt.ylabel(\"TPR(B)\")\n",
        "\n",
        "plt.show()  "
      ],
      "execution_count": null,
      "outputs": [
        {
          "output_type": "display_data",
          "data": {
            "image/png": "[encoded data removed]",
            "text/plain": [
              "<Figure size 432x288 with 1 Axes>"
            ]
          },
          "metadata": {
            "needs_background": "light"
          }
        }
      ]
    },
    {
      "cell_type": "markdown",
      "metadata": {
        "id": "Xf-DYTyd9pEI"
      },
      "source": [
        "#### 3. Intersección (umbral de decisión)\n",
        "\n",
        "El punto de intersección definirá el umbral para el cual se obtiene el mínimo error tanto para la TruePositive Rate (TPR) como para la FalsePositive Rate (FPR)"
      ]
    },
    {
      "cell_type": "code",
      "metadata": {
        "colab": {
          "base_uri": "https://localhost:8080/",
          "height": 283
        },
        "id": "TO2pfZvftTRV",
        "outputId": "3bf978c5-d934-44ab-8e5c-abd91f0cb253"
      },
      "source": [
        "from shapely.geometry import LineString\n",
        "\n",
        "plt.plot(fpr, tpr)\n",
        "plt.plot(fpr_thr, tpr_thr)\n",
        "\n",
        "# https://stackoverflow.com/questions/28766692/intersection-of-two-graphs-in-python-find-the-x-value\n",
        "first_line = LineString(np.column_stack((fpr, tpr)))\n",
        "second_line = LineString(np.column_stack((fpr_thr, tpr_thr)))\n",
        "\n",
        "intersection = first_line.intersection(second_line)\n",
        "\n",
        "if intersection.geom_type == 'MultiPoint':\n",
        "    plt.plot(*LineString(intersection).xy, 'o')\n",
        "elif intersection.geom_type == 'Point':\n",
        "    plt.plot(*intersection.xy, 'o')\n",
        "\n",
        "intersection.xy"
      ],
      "execution_count": null,
      "outputs": [
        {
          "output_type": "execute_result",
          "data": {
            "text/plain": [
              "(array('d', [0.1599999999999999]), array('d', [0.84]))"
            ]
          },
          "metadata": {},
          "execution_count": 5
        },
        {
          "output_type": "display_data",
          "data": {
            "image/png": "[encoded data removed]",
            "text/plain": [
              "<Figure size 432x288 with 1 Axes>"
            ]
          },
          "metadata": {
            "needs_background": "light"
          }
        }
      ]
    },
    {
      "cell_type": "markdown",
      "metadata": {
        "id": "W2s6WZo-nN3N"
      },
      "source": [
        "Se obtiene la proporción para el punto encontrado"
      ]
    },
    {
      "cell_type": "code",
      "metadata": {
        "colab": {
          "base_uri": "https://localhost:8080/"
        },
        "id": "9ai_obi-9WmN",
        "outputId": "67de0355-36d6-4f00-d104-ab91b0740baa"
      },
      "source": [
        "# Punto de intersección\n",
        "umbral_x = round(intersection.xy[0][0], 2)\n",
        "umbral_y = round(intersection.xy[1][0], 2)\n",
        "\n",
        "min1 = 1\n",
        "min2 = 1\n",
        "\n",
        "umbral_tp = 0\n",
        "umbral_fp = 0\n",
        "\n",
        "for i in range(len(tpr)):\n",
        "  div = i/N\n",
        "  diff_x = np.abs(div - umbral_x)\n",
        "  diff_y = np.abs(div - umbral_y)\n",
        "\n",
        "  if diff_x < min1:\n",
        "    min1 = diff_x\n",
        "    umbral_fp = i\n",
        "  \n",
        "  if diff_y < min2:\n",
        "    min2 = diff_y\n",
        "    umbral_tp = i\n",
        "\n",
        "print(\"TPR = {}, es equivalente a: {}/{}\".format(umbral_y, umbral_tp, N))\n",
        "print(\"FPR = {}, es equivalente a: {}/{}\".format(umbral_x, umbral_fp, N))"
      ],
      "execution_count": null,
      "outputs": [
        {
          "output_type": "stream",
          "name": "stdout",
          "text": [
            "TPR = 0.84, es equivalente a: 42/50\n",
            "FPR = 0.16, es equivalente a: 8/50\n"
          ]
        }
      ]
    },
    {
      "cell_type": "markdown",
      "metadata": {
        "id": "a4JQgjP20t3r"
      },
      "source": [
        "#### 4. Valor para el umbral\n",
        "\n",
        "Se busca el valor en la columna \"*Val*\" del dataset para cuando se cumplen las proporciones mencionadas\n"
      ]
    },
    {
      "cell_type": "code",
      "metadata": {
        "colab": {
          "base_uri": "https://localhost:8080/"
        },
        "id": "rXKNl2QH1Hb-",
        "outputId": "74260fa6-6b7b-4b6e-d3eb-f39b0cb48968"
      },
      "source": [
        "# TruePositive(TP) = B \n",
        "# FalsePositive(FP) = A\n",
        "\n",
        "A_count = 0\n",
        "B_count = 0\n",
        "umbral_value = 0\n",
        "for row in dataset.itertuples():\n",
        "  if row.Etiq == 'A':\n",
        "    A_count = A_count + 1\n",
        "  else:\n",
        "    B_count = B_count + 1\n",
        "\n",
        "  if A_count == umbral_fp and B_count == umbral_tp:\n",
        "    umbral_value = row.Val\n",
        "    break\n",
        "\n",
        "print(\"Para A = {} y B = {}, el valor es {}\".format(A_count, B_count, umbral_value))"
      ],
      "execution_count": null,
      "outputs": [
        {
          "output_type": "stream",
          "name": "stdout",
          "text": [
            "Para A = 8 y B = 42, el valor es 8.267538884670875\n"
          ]
        }
      ]
    },
    {
      "cell_type": "markdown",
      "metadata": {
        "id": "f_IwUdpE2ux1"
      },
      "source": [
        "### **Clasificación**\n",
        "Valores superiores a 8.268 se clasifican como B e inferiores a él se clasifican como A <br><br>\n",
        "Etiq = A para Val < 8.268<br>\n",
        "Etiq = B para Val > 8.268"
      ]
    },
    {
      "cell_type": "code",
      "metadata": {
        "id": "kM9D2vYe2jM_"
      },
      "source": [
        "Etiq_prediccion = []\n",
        "for row in dataset.itertuples():\n",
        "  if row.Val > umbral_value:\n",
        "    Etiq_prediccion.append('B')\n",
        "  else:\n",
        "    Etiq_prediccion.append('A')"
      ],
      "execution_count": null,
      "outputs": []
    },
    {
      "cell_type": "markdown",
      "metadata": {
        "id": "yD5mFj8k4uCL"
      },
      "source": [
        "Se añade la columna de *Etiq_prediccion*"
      ]
    },
    {
      "cell_type": "code",
      "metadata": {
        "colab": {
          "base_uri": "https://localhost:8080/",
          "height": 424
        },
        "id": "m2VAK-Q84tLA",
        "outputId": "b3530631-0780-4f20-c33c-b6ccf3945982"
      },
      "source": [
        "dataset['Etiq_prediccion'] = Etiq_prediccion\n",
        "dataset"
      ],
      "execution_count": null,
      "outputs": [
        {
          "output_type": "execute_result",
          "data": {
            "text/html": [
              "<div>\n",
              "<style scoped>\n",
              "    .dataframe tbody tr th:only-of-type {\n",
              "        vertical-align: middle;\n",
              "    }\n",
              "\n",
              "    .dataframe tbody tr th {\n",
              "        vertical-align: top;\n",
              "    }\n",
              "\n",
              "    .dataframe thead th {\n",
              "        text-align: right;\n",
              "    }\n",
              "</style>\n",
              "<table border=\"1\" class=\"dataframe\">\n",
              "  <thead>\n",
              "    <tr style=\"text-align: right;\">\n",
              "      <th></th>\n",
              "      <th>Val</th>\n",
              "      <th>Etiq</th>\n",
              "      <th>Etiq_prediccion</th>\n",
              "    </tr>\n",
              "  </thead>\n",
              "  <tbody>\n",
              "    <tr>\n",
              "      <th>0</th>\n",
              "      <td>16.556726</td>\n",
              "      <td>B</td>\n",
              "      <td>B</td>\n",
              "    </tr>\n",
              "    <tr>\n",
              "      <th>1</th>\n",
              "      <td>14.559450</td>\n",
              "      <td>B</td>\n",
              "      <td>B</td>\n",
              "    </tr>\n",
              "    <tr>\n",
              "      <th>2</th>\n",
              "      <td>13.758604</td>\n",
              "      <td>B</td>\n",
              "      <td>B</td>\n",
              "    </tr>\n",
              "    <tr>\n",
              "      <th>3</th>\n",
              "      <td>13.596754</td>\n",
              "      <td>B</td>\n",
              "      <td>B</td>\n",
              "    </tr>\n",
              "    <tr>\n",
              "      <th>4</th>\n",
              "      <td>13.394888</td>\n",
              "      <td>B</td>\n",
              "      <td>B</td>\n",
              "    </tr>\n",
              "    <tr>\n",
              "      <th>...</th>\n",
              "      <td>...</td>\n",
              "      <td>...</td>\n",
              "      <td>...</td>\n",
              "    </tr>\n",
              "    <tr>\n",
              "      <th>95</th>\n",
              "      <td>3.800217</td>\n",
              "      <td>A</td>\n",
              "      <td>A</td>\n",
              "    </tr>\n",
              "    <tr>\n",
              "      <th>96</th>\n",
              "      <td>3.798762</td>\n",
              "      <td>A</td>\n",
              "      <td>A</td>\n",
              "    </tr>\n",
              "    <tr>\n",
              "      <th>97</th>\n",
              "      <td>3.765379</td>\n",
              "      <td>A</td>\n",
              "      <td>A</td>\n",
              "    </tr>\n",
              "    <tr>\n",
              "      <th>98</th>\n",
              "      <td>1.879719</td>\n",
              "      <td>A</td>\n",
              "      <td>A</td>\n",
              "    </tr>\n",
              "    <tr>\n",
              "      <th>99</th>\n",
              "      <td>1.396923</td>\n",
              "      <td>A</td>\n",
              "      <td>A</td>\n",
              "    </tr>\n",
              "  </tbody>\n",
              "</table>\n",
              "<p>100 rows × 3 columns</p>\n",
              "</div>"
            ],
            "text/plain": [
              "          Val Etiq Etiq_prediccion\n",
              "0   16.556726    B               B\n",
              "1   14.559450    B               B\n",
              "2   13.758604    B               B\n",
              "3   13.596754    B               B\n",
              "4   13.394888    B               B\n",
              "..        ...  ...             ...\n",
              "95   3.800217    A               A\n",
              "96   3.798762    A               A\n",
              "97   3.765379    A               A\n",
              "98   1.879719    A               A\n",
              "99   1.396923    A               A\n",
              "\n",
              "[100 rows x 3 columns]"
            ]
          },
          "metadata": {},
          "execution_count": 9
        }
      ]
    },
    {
      "cell_type": "markdown",
      "metadata": {
        "id": "atR43Ytv-ZBT"
      },
      "source": [
        "### **Evaluación**\n",
        "\n"
      ]
    },
    {
      "cell_type": "markdown",
      "metadata": {
        "id": "TPttF6tneVVO"
      },
      "source": [
        "#### 1. Confusion matrix"
      ]
    },
    {
      "cell_type": "code",
      "metadata": {
        "colab": {
          "base_uri": "https://localhost:8080/",
          "height": 279
        },
        "id": "whID0-ZBc4Ti",
        "outputId": "0af0b1f8-61ef-4b3e-fef3-98139dcae93c"
      },
      "source": [
        "import matplotlib.pyplot as plt\n",
        "\n",
        "y_actual = dataset['Etiq']\n",
        "y_prediccion = dataset['Etiq_prediccion']\n",
        "\n",
        "confusion_matrix = pd.crosstab(y_actual, y_prediccion, rownames=['True label'], colnames=['Predicted label'])\n",
        "\n",
        "sns.heatmap(confusion_matrix, annot=True)\n",
        "plt.show()"
      ],
      "execution_count": null,
      "outputs": [
        {
          "output_type": "display_data",
          "data": {
            "image/png": "[encoded data removed]",
            "text/plain": [
              "<Figure size 432x288 with 2 Axes>"
            ]
          },
          "metadata": {
            "needs_background": "light"
          }
        }
      ]
    },
    {
      "cell_type": "markdown",
      "metadata": {
        "id": "4D6wF58BQzgY"
      },
      "source": [
        "#### 2. Parámetros de calidad"
      ]
    },
    {
      "cell_type": "markdown",
      "metadata": {
        "id": "1w13yRkEYCEe"
      },
      "source": [
        "**Exactitud** = $\\frac{\\text{TP + TN}}{\\text{TP + TN + FP + FN}}$\n",
        "<br><br>\n",
        "**Precision** = $\\frac{\\text{TP}}{\\text{TP + FP}}$\n",
        "<br><br>\n",
        "**Recall** = $\\frac{\\text{TP}}{\\text{TP + FN}}$\n",
        "<br><br>\n",
        "**F1-Score** = $\\frac{2\\text{(Precision)(Recall)}}{\\text{Precision + Recall}}$"
      ]
    },
    {
      "cell_type": "code",
      "metadata": {
        "colab": {
          "base_uri": "https://localhost:8080/"
        },
        "id": "3wUYFOzSYBA0",
        "outputId": "1b0fbb45-4026-4a8d-a286-b125ff508e7a"
      },
      "source": [
        "# Se obtienen la cuenta para cada condicion\n",
        "TP_count = confusion_matrix.iloc[0]['A']\n",
        "FN_count = confusion_matrix.iloc[0]['B']\n",
        "FP_count = confusion_matrix.iloc[1]['A']\n",
        "TN_count = confusion_matrix.iloc[1]['B']\n",
        "\n",
        "\n",
        "exactitud = (TP_count + TN_count) / (TP_count + TN_count + FN_count + FP_count)\n",
        "precision = (TP_count) / (TP_count + FP_count)\n",
        "recall = (TP_count) / (TP_count + FN_count)\n",
        "F1_score = (2*precision*recall) / (precision + recall)\n",
        "\n",
        "print(\"Exactitud = \" + str(exactitud))\n",
        "print(\"Precision = \" + str(precision))\n",
        "print(\"F1-Score = \" + str(F1_score))"
      ],
      "execution_count": null,
      "outputs": [
        {
          "output_type": "stream",
          "name": "stdout",
          "text": [
            "Exactitud = 0.85\n",
            "Precision = 0.8431372549019608\n",
            "F1-Score = 0.8514851485148515\n"
          ]
        }
      ]
    },
    {
      "cell_type": "markdown",
      "metadata": {
        "id": "BpttGsddQ6YZ"
      },
      "source": [
        "#### 3. Reporte con *sklearn*"
      ]
    },
    {
      "cell_type": "code",
      "metadata": {
        "colab": {
          "base_uri": "https://localhost:8080/"
        },
        "id": "TFoaptpe8jV_",
        "outputId": "582ad22c-783e-488c-b666-b5ef7d9e5a43"
      },
      "source": [
        "from sklearn.metrics import classification_report\n",
        "print(classification_report(dataset['Etiq'], dataset['Etiq_prediccion']))"
      ],
      "execution_count": null,
      "outputs": [
        {
          "output_type": "stream",
          "name": "stdout",
          "text": [
            "              precision    recall  f1-score   support\n",
            "\n",
            "           A       0.84      0.86      0.85        50\n",
            "           B       0.86      0.84      0.85        50\n",
            "\n",
            "    accuracy                           0.85       100\n",
            "   macro avg       0.85      0.85      0.85       100\n",
            "weighted avg       0.85      0.85      0.85       100\n",
            "\n"
          ]
        }
      ]
    },
    {
      "cell_type": "markdown",
      "metadata": {
        "id": "0nq0uoH4nrzY"
      },
      "source": [
        "Dados los parámetros mostrados al generar los datos, el clasificador arroja una **exactitud y precisión del 85%**"
      ]
    },
    {
      "cell_type": "markdown",
      "metadata": {
        "id": "H_LZlcHdP1Aj"
      },
      "source": [
        "## **Dataset #2**\n",
        "\n",
        "Ahora se modifican las medias ($\\mu$) de los dos grupos de datos para que estas se encuentren más cerca. Se mantiene la misma DS ($\\sigma$)"
      ]
    },
    {
      "cell_type": "code",
      "metadata": {
        "colab": {
          "base_uri": "https://localhost:8080/",
          "height": 776
        },
        "id": "IMrh9j7ORgDe",
        "outputId": "084b9096-b3b3-40b6-b08d-8d565ab7fd1e"
      },
      "source": [
        "mu3 = 6\n",
        "mu4 = 7\n",
        "N = 50\n",
        "\n",
        "# Creación de datos\n",
        "np.random.seed(1)\n",
        "label2_A = pd.DataFrame(np.random.normal(loc = mu3, scale = sigma1, size = (N,1)),\n",
        "                        columns=['Val'])\n",
        "label2_A['Etiq'] = 'A'\n",
        "\n",
        "label2_B = pd.DataFrame(np.random.normal(loc = mu4, scale = sigma2, size = (N,1)),\n",
        "                        columns=['Val'])\n",
        "label2_B['Etiq'] = 'B'\n",
        "\n",
        "# Union de los datos A y B\n",
        "dataset2 = pd.concat([label2_A, label2_B])\n",
        "dataset2 = dataset2.sort_values(by = 'Val', ascending=False)\n",
        "dataset2 = dataset2.reset_index().drop('index', axis=1)\n",
        "\n",
        "sns.displot(data=dataset2, x='Val', hue='Etiq', kind='kde', fill=True)\n",
        "dataset2"
      ],
      "execution_count": null,
      "outputs": [
        {
          "output_type": "execute_result",
          "data": {
            "text/html": [
              "<div>\n",
              "<style scoped>\n",
              "    .dataframe tbody tr th:only-of-type {\n",
              "        vertical-align: middle;\n",
              "    }\n",
              "\n",
              "    .dataframe tbody tr th {\n",
              "        vertical-align: top;\n",
              "    }\n",
              "\n",
              "    .dataframe thead th {\n",
              "        text-align: right;\n",
              "    }\n",
              "</style>\n",
              "<table border=\"1\" class=\"dataframe\">\n",
              "  <thead>\n",
              "    <tr style=\"text-align: right;\">\n",
              "      <th></th>\n",
              "      <th>Val</th>\n",
              "      <th>Etiq</th>\n",
              "    </tr>\n",
              "  </thead>\n",
              "  <tbody>\n",
              "    <tr>\n",
              "      <th>0</th>\n",
              "      <td>13.556726</td>\n",
              "      <td>B</td>\n",
              "    </tr>\n",
              "    <tr>\n",
              "      <th>1</th>\n",
              "      <td>11.559450</td>\n",
              "      <td>B</td>\n",
              "    </tr>\n",
              "    <tr>\n",
              "      <th>2</th>\n",
              "      <td>10.758604</td>\n",
              "      <td>B</td>\n",
              "    </tr>\n",
              "    <tr>\n",
              "      <th>3</th>\n",
              "      <td>10.596754</td>\n",
              "      <td>B</td>\n",
              "    </tr>\n",
              "    <tr>\n",
              "      <th>4</th>\n",
              "      <td>10.394888</td>\n",
              "      <td>B</td>\n",
              "    </tr>\n",
              "    <tr>\n",
              "      <th>...</th>\n",
              "      <td>...</td>\n",
              "      <td>...</td>\n",
              "    </tr>\n",
              "    <tr>\n",
              "      <th>95</th>\n",
              "      <td>2.810511</td>\n",
              "      <td>B</td>\n",
              "    </tr>\n",
              "    <tr>\n",
              "      <th>96</th>\n",
              "      <td>2.667659</td>\n",
              "      <td>B</td>\n",
              "    </tr>\n",
              "    <tr>\n",
              "      <th>97</th>\n",
              "      <td>1.879719</td>\n",
              "      <td>A</td>\n",
              "    </tr>\n",
              "    <tr>\n",
              "      <th>98</th>\n",
              "      <td>1.396923</td>\n",
              "      <td>A</td>\n",
              "    </tr>\n",
              "    <tr>\n",
              "      <th>99</th>\n",
              "      <td>0.933396</td>\n",
              "      <td>B</td>\n",
              "    </tr>\n",
              "  </tbody>\n",
              "</table>\n",
              "<p>100 rows × 2 columns</p>\n",
              "</div>"
            ],
            "text/plain": [
              "          Val Etiq\n",
              "0   13.556726    B\n",
              "1   11.559450    B\n",
              "2   10.758604    B\n",
              "3   10.596754    B\n",
              "4   10.394888    B\n",
              "..        ...  ...\n",
              "95   2.810511    B\n",
              "96   2.667659    B\n",
              "97   1.879719    A\n",
              "98   1.396923    A\n",
              "99   0.933396    B\n",
              "\n",
              "[100 rows x 2 columns]"
            ]
          },
          "metadata": {},
          "execution_count": 19
        },
        {
          "output_type": "display_data",
          "data": {
            "image/png": "[encoded data removed]",
            "text/plain": [
              "<Figure size 402.875x360 with 1 Axes>"
            ]
          },
          "metadata": {
            "needs_background": "light"
          }
        }
      ]
    },
    {
      "cell_type": "markdown",
      "metadata": {
        "id": "tx-s_5e4TtAD"
      },
      "source": [
        "### **Umbral**\n",
        "\n",
        "Se obtiene el punto de intersección para el clasificador"
      ]
    },
    {
      "cell_type": "code",
      "metadata": {
        "colab": {
          "base_uri": "https://localhost:8080/",
          "height": 283
        },
        "id": "w7E39hV3T_Vx",
        "outputId": "9989638e-41f4-46d2-ce4a-b0805f2d5ec3"
      },
      "source": [
        "import matplotlib.pyplot as plt\n",
        "from shapely.geometry import LineString\n",
        "\n",
        "tpr = []\n",
        "fpr = []\n",
        "TP = 0\n",
        "FP = 0\n",
        "\n",
        "# Datos para la curva ROC\n",
        "for row in dataset2.itertuples():\n",
        "  #print(row.Etiq)\n",
        "  if row.Etiq == 'A':\n",
        "    FP = FP + 1\n",
        "  else:\n",
        "    TP = TP + 1\n",
        "  tpr.append(TP/N)\n",
        "  fpr.append(FP/N)\n",
        "\n",
        "# Linea de 45° para el punto umbral\n",
        "fpr_thr = np.arange(0.0, 1.0, .01)\n",
        "tpr_thr = np.arange(1.0, 0.0, -.01)\n",
        "\n",
        "# Gráfico de la curva ROC y linea de 45°\n",
        "plt.plot(fpr, tpr)\n",
        "plt.plot(fpr_thr, tpr_thr)\n",
        "\n",
        "# Punto de intersección\n",
        "# https://stackoverflow.com/questions/28766692/intersection-of-two-graphs-in-python-find-the-x-value\n",
        "first_line = LineString(np.column_stack((fpr, tpr)))\n",
        "second_line = LineString(np.column_stack((fpr_thr, tpr_thr)))\n",
        "intersection = first_line.intersection(second_line)\n",
        "if intersection.geom_type == 'MultiPoint':\n",
        "    plt.plot(*LineString(intersection).xy, 'o')\n",
        "elif intersection.geom_type == 'Point':\n",
        "    plt.plot(*intersection.xy, 'o')\n",
        "\n",
        "# Coordenadas de intersección\n",
        "intersection.xy"
      ],
      "execution_count": null,
      "outputs": [
        {
          "output_type": "execute_result",
          "data": {
            "text/plain": [
              "(array('d', [0.35999999999999965]), array('d', [0.64]))"
            ]
          },
          "metadata": {},
          "execution_count": 22
        },
        {
          "output_type": "display_data",
          "data": {
            "image/png": "[encoded data removed]",
            "text/plain": [
              "<Figure size 432x288 with 1 Axes>"
            ]
          },
          "metadata": {
            "needs_background": "light"
          }
        }
      ]
    },
    {
      "cell_type": "code",
      "metadata": {
        "colab": {
          "base_uri": "https://localhost:8080/"
        },
        "id": "3Vt_aaiQV0Pb",
        "outputId": "f6068155-fd2f-4993-f035-41726d79b581"
      },
      "source": [
        "# Punto de intersección\n",
        "umbral_x = round(intersection.xy[0][0], 2)\n",
        "umbral_y = round(intersection.xy[1][0], 2)\n",
        "\n",
        "min1 = 1\n",
        "min2 = 1\n",
        "umbral_tp = 0\n",
        "umbral_fp = 0\n",
        "\n",
        "# Busqueda de la proporción correspondiente al punto de intersección\n",
        "for i in range(len(tpr)):\n",
        "  div = i/N\n",
        "  diff_x = np.abs(div - umbral_x)\n",
        "  diff_y = np.abs(div - umbral_y)\n",
        "\n",
        "  if diff_x < min1:\n",
        "    min1 = diff_x\n",
        "    umbral_fp = i\n",
        "  \n",
        "  if diff_y < min2:\n",
        "    min2 = diff_y\n",
        "    umbral_tp = i\n",
        "\n",
        "print(\"TPR = {}, es equivalente a: {}/{}\".format(umbral_y, umbral_tp, N))\n",
        "print(\"FPR = {}, es equivalente a: {}/{}\".format(umbral_x, umbral_fp, N))\n",
        "\n",
        "# Búsqueda del valor 'Val' en el dataset\n",
        "#     TruePositive(TP) = B \n",
        "#     FalsePositive(FP) = A\n",
        "A_count = 0\n",
        "B_count = 0\n",
        "umbral_value = 0\n",
        "for row in dataset2.itertuples():\n",
        "  if row.Etiq == 'A':\n",
        "    A_count = A_count + 1\n",
        "  else:\n",
        "    B_count = B_count + 1\n",
        "\n",
        "  if A_count == umbral_fp and B_count == umbral_tp:\n",
        "    umbral_value = row.Val\n",
        "    break\n",
        "\n",
        "print(\"Para A = {} y B = {}, el valor es {}\".format(A_count, B_count, umbral_value))"
      ],
      "execution_count": null,
      "outputs": [
        {
          "output_type": "stream",
          "name": "stdout",
          "text": [
            "TPR = 0.64, es equivalente a: 32/50\n",
            "FPR = 0.36, es equivalente a: 18/50\n",
            "Para A = 18 y B = 32, el valor es 6.468831395634185\n"
          ]
        }
      ]
    },
    {
      "cell_type": "markdown",
      "metadata": {
        "id": "o8FkvT-OWuxr"
      },
      "source": [
        "### **Clasificación**\n",
        "\n",
        "Etiq = A para Val < 6.469<br>\n",
        "Etiq = B para Val > 6.469"
      ]
    },
    {
      "cell_type": "code",
      "metadata": {
        "id": "t4dEc7CJXPNv",
        "colab": {
          "base_uri": "https://localhost:8080/",
          "height": 424
        },
        "outputId": "b6ac2b9f-0287-44dd-b33f-7eaab59e6be9"
      },
      "source": [
        "# Se clasifica según el umbral encontrado\n",
        "Etiq_prediccion = []\n",
        "for row in dataset2.itertuples():\n",
        "  if row.Val > umbral_value:\n",
        "    Etiq_prediccion.append('B')\n",
        "  else:\n",
        "    Etiq_prediccion.append('A')\n",
        "\n",
        "# Se añade la predicción al dataset\n",
        "dataset2['Etiq_prediccion'] = Etiq_prediccion\n",
        "dataset2"
      ],
      "execution_count": null,
      "outputs": [
        {
          "output_type": "execute_result",
          "data": {
            "text/html": [
              "<div>\n",
              "<style scoped>\n",
              "    .dataframe tbody tr th:only-of-type {\n",
              "        vertical-align: middle;\n",
              "    }\n",
              "\n",
              "    .dataframe tbody tr th {\n",
              "        vertical-align: top;\n",
              "    }\n",
              "\n",
              "    .dataframe thead th {\n",
              "        text-align: right;\n",
              "    }\n",
              "</style>\n",
              "<table border=\"1\" class=\"dataframe\">\n",
              "  <thead>\n",
              "    <tr style=\"text-align: right;\">\n",
              "      <th></th>\n",
              "      <th>Val</th>\n",
              "      <th>Etiq</th>\n",
              "      <th>Etiq_prediccion</th>\n",
              "    </tr>\n",
              "  </thead>\n",
              "  <tbody>\n",
              "    <tr>\n",
              "      <th>0</th>\n",
              "      <td>13.556726</td>\n",
              "      <td>B</td>\n",
              "      <td>B</td>\n",
              "    </tr>\n",
              "    <tr>\n",
              "      <th>1</th>\n",
              "      <td>11.559450</td>\n",
              "      <td>B</td>\n",
              "      <td>B</td>\n",
              "    </tr>\n",
              "    <tr>\n",
              "      <th>2</th>\n",
              "      <td>10.758604</td>\n",
              "      <td>B</td>\n",
              "      <td>B</td>\n",
              "    </tr>\n",
              "    <tr>\n",
              "      <th>3</th>\n",
              "      <td>10.596754</td>\n",
              "      <td>B</td>\n",
              "      <td>B</td>\n",
              "    </tr>\n",
              "    <tr>\n",
              "      <th>4</th>\n",
              "      <td>10.394888</td>\n",
              "      <td>B</td>\n",
              "      <td>B</td>\n",
              "    </tr>\n",
              "    <tr>\n",
              "      <th>...</th>\n",
              "      <td>...</td>\n",
              "      <td>...</td>\n",
              "      <td>...</td>\n",
              "    </tr>\n",
              "    <tr>\n",
              "      <th>95</th>\n",
              "      <td>2.810511</td>\n",
              "      <td>B</td>\n",
              "      <td>A</td>\n",
              "    </tr>\n",
              "    <tr>\n",
              "      <th>96</th>\n",
              "      <td>2.667659</td>\n",
              "      <td>B</td>\n",
              "      <td>A</td>\n",
              "    </tr>\n",
              "    <tr>\n",
              "      <th>97</th>\n",
              "      <td>1.879719</td>\n",
              "      <td>A</td>\n",
              "      <td>A</td>\n",
              "    </tr>\n",
              "    <tr>\n",
              "      <th>98</th>\n",
              "      <td>1.396923</td>\n",
              "      <td>A</td>\n",
              "      <td>A</td>\n",
              "    </tr>\n",
              "    <tr>\n",
              "      <th>99</th>\n",
              "      <td>0.933396</td>\n",
              "      <td>B</td>\n",
              "      <td>A</td>\n",
              "    </tr>\n",
              "  </tbody>\n",
              "</table>\n",
              "<p>100 rows × 3 columns</p>\n",
              "</div>"
            ],
            "text/plain": [
              "          Val Etiq Etiq_prediccion\n",
              "0   13.556726    B               B\n",
              "1   11.559450    B               B\n",
              "2   10.758604    B               B\n",
              "3   10.596754    B               B\n",
              "4   10.394888    B               B\n",
              "..        ...  ...             ...\n",
              "95   2.810511    B               A\n",
              "96   2.667659    B               A\n",
              "97   1.879719    A               A\n",
              "98   1.396923    A               A\n",
              "99   0.933396    B               A\n",
              "\n",
              "[100 rows x 3 columns]"
            ]
          },
          "metadata": {},
          "execution_count": 24
        }
      ]
    },
    {
      "cell_type": "markdown",
      "metadata": {
        "id": "tjRNq3UpX1X5"
      },
      "source": [
        "### **Evaluación**"
      ]
    },
    {
      "cell_type": "code",
      "metadata": {
        "colab": {
          "base_uri": "https://localhost:8080/",
          "height": 536
        },
        "id": "6jG0r7G3YBt9",
        "outputId": "52ce4c1c-9627-4f43-81d6-b2ff1eb580cc"
      },
      "source": [
        "import matplotlib.pyplot as plt\n",
        "from sklearn.metrics import classification_report\n",
        "\n",
        "y_actual = dataset2['Etiq']\n",
        "y_prediccion = dataset2['Etiq_prediccion']\n",
        "\n",
        "# Matriz de confusión\n",
        "confusion_matrix2 = pd.crosstab(y_actual, y_prediccion, rownames=['True label'], colnames=['Predicted label'])\n",
        "sns.heatmap(confusion_matrix2, annot=True)\n",
        "plt.show()\n",
        "\n",
        "# Se obtienen la cuenta para cada condicion\n",
        "TP_count = confusion_matrix2.iloc[0]['A']\n",
        "FN_count = confusion_matrix2.iloc[0]['B']\n",
        "FP_count = confusion_matrix2.iloc[1]['A']\n",
        "TN_count = confusion_matrix2.iloc[1]['B']\n",
        "\n",
        "# Parámetros de calidad\n",
        "exactitud = (TP_count + TN_count) / (TP_count + TN_count + FN_count + FP_count)\n",
        "precision = (TP_count) / (TP_count + FP_count)\n",
        "recall = (TP_count) / (TP_count + FN_count)\n",
        "F1_score = (2*precision*recall) / (precision + recall)\n",
        "\n",
        "# Resultados\n",
        "print(\"\\nExactitud = \" + str(exactitud))\n",
        "print(\"Precision = \" + str(precision))\n",
        "print(\"F1-Score = \" + str(F1_score) + \"\\n\")\n",
        "\n",
        "# Resumen Sklearn\n",
        "print(classification_report(dataset2['Etiq'], dataset2['Etiq_prediccion']))"
      ],
      "execution_count": null,
      "outputs": [
        {
          "output_type": "display_data",
          "data": {
            "image/png": "[encoded data removed]",
            "text/plain": [
              "<Figure size 432x288 with 2 Axes>"
            ]
          },
          "metadata": {
            "needs_background": "light"
          }
        },
        {
          "output_type": "stream",
          "name": "stdout",
          "text": [
            "\n",
            "Exactitud = 0.65\n",
            "Precision = 0.6470588235294118\n",
            "F1-Score = 0.6534653465346535\n",
            "\n",
            "              precision    recall  f1-score   support\n",
            "\n",
            "           A       0.65      0.66      0.65        50\n",
            "           B       0.65      0.64      0.65        50\n",
            "\n",
            "    accuracy                           0.65       100\n",
            "   macro avg       0.65      0.65      0.65       100\n",
            "weighted avg       0.65      0.65      0.65       100\n",
            "\n"
          ]
        }
      ]
    },
    {
      "cell_type": "markdown",
      "metadata": {
        "id": "MvD6DVcko3jG"
      },
      "source": [
        "Dados los parámetros mostrados al generar los datos, el clasificador arroja una **exactitud y precisión del 65%**"
      ]
    },
    {
      "cell_type": "markdown",
      "metadata": {
        "id": "2JQncUFeZWas"
      },
      "source": [
        "## **Dataset #3**\n",
        "\n",
        "Se mantiene la misma media ($\\mu$) del dataset #1 y ahora se disminuye la DS ($\\sigma$) para los grupos A y B "
      ]
    },
    {
      "cell_type": "code",
      "metadata": {
        "colab": {
          "base_uri": "https://localhost:8080/",
          "height": 776
        },
        "id": "xGVQ7upQZ_G8",
        "outputId": "287fff19-5acd-4fe5-ae5a-cf91516a977e"
      },
      "source": [
        "sigma3 = 1\n",
        "sigma4 = 1.5\n",
        "N = 50\n",
        "\n",
        "# Creación de datos\n",
        "np.random.seed(1)\n",
        "label3_A = pd.DataFrame(np.random.normal(loc = mu1, scale = sigma3, size = (N,1)),\n",
        "                        columns=['Val'])\n",
        "label3_A['Etiq'] = 'A'\n",
        "\n",
        "label3_B = pd.DataFrame(np.random.normal(loc = mu2, scale = sigma4, size = (N,1)),\n",
        "                        columns=['Val'])\n",
        "label3_B['Etiq'] = 'B'\n",
        "\n",
        "# Union de los datos A y B\n",
        "dataset3 = pd.concat([label3_A, label3_B])\n",
        "dataset3 = dataset3.sort_values(by = 'Val', ascending=False)\n",
        "dataset3 = dataset3.reset_index().drop('index', axis=1)\n",
        "\n",
        "sns.displot(data=dataset3, x='Val', hue='Etiq', kind='kde', fill=True)\n",
        "dataset3"
      ],
      "execution_count": null,
      "outputs": [
        {
          "output_type": "execute_result",
          "data": {
            "text/html": [
              "<div>\n",
              "<style scoped>\n",
              "    .dataframe tbody tr th:only-of-type {\n",
              "        vertical-align: middle;\n",
              "    }\n",
              "\n",
              "    .dataframe tbody tr th {\n",
              "        vertical-align: top;\n",
              "    }\n",
              "\n",
              "    .dataframe thead th {\n",
              "        text-align: right;\n",
              "    }\n",
              "</style>\n",
              "<table border=\"1\" class=\"dataframe\">\n",
              "  <thead>\n",
              "    <tr style=\"text-align: right;\">\n",
              "      <th></th>\n",
              "      <th>Val</th>\n",
              "      <th>Etiq</th>\n",
              "    </tr>\n",
              "  </thead>\n",
              "  <tbody>\n",
              "    <tr>\n",
              "      <th>0</th>\n",
              "      <td>13.278363</td>\n",
              "      <td>B</td>\n",
              "    </tr>\n",
              "    <tr>\n",
              "      <th>1</th>\n",
              "      <td>12.279725</td>\n",
              "      <td>B</td>\n",
              "    </tr>\n",
              "    <tr>\n",
              "      <th>2</th>\n",
              "      <td>11.879302</td>\n",
              "      <td>B</td>\n",
              "    </tr>\n",
              "    <tr>\n",
              "      <th>3</th>\n",
              "      <td>11.798377</td>\n",
              "      <td>B</td>\n",
              "    </tr>\n",
              "    <tr>\n",
              "      <th>4</th>\n",
              "      <td>11.697444</td>\n",
              "      <td>B</td>\n",
              "    </tr>\n",
              "    <tr>\n",
              "      <th>...</th>\n",
              "      <td>...</td>\n",
              "      <td>...</td>\n",
              "    </tr>\n",
              "    <tr>\n",
              "      <th>95</th>\n",
              "      <td>4.900109</td>\n",
              "      <td>A</td>\n",
              "    </tr>\n",
              "    <tr>\n",
              "      <th>96</th>\n",
              "      <td>4.899381</td>\n",
              "      <td>A</td>\n",
              "    </tr>\n",
              "    <tr>\n",
              "      <th>97</th>\n",
              "      <td>4.882690</td>\n",
              "      <td>A</td>\n",
              "    </tr>\n",
              "    <tr>\n",
              "      <th>98</th>\n",
              "      <td>3.939859</td>\n",
              "      <td>A</td>\n",
              "    </tr>\n",
              "    <tr>\n",
              "      <th>99</th>\n",
              "      <td>3.698461</td>\n",
              "      <td>A</td>\n",
              "    </tr>\n",
              "  </tbody>\n",
              "</table>\n",
              "<p>100 rows × 2 columns</p>\n",
              "</div>"
            ],
            "text/plain": [
              "          Val Etiq\n",
              "0   13.278363    B\n",
              "1   12.279725    B\n",
              "2   11.879302    B\n",
              "3   11.798377    B\n",
              "4   11.697444    B\n",
              "..        ...  ...\n",
              "95   4.900109    A\n",
              "96   4.899381    A\n",
              "97   4.882690    A\n",
              "98   3.939859    A\n",
              "99   3.698461    A\n",
              "\n",
              "[100 rows x 2 columns]"
            ]
          },
          "metadata": {},
          "execution_count": 33
        },
        {
          "output_type": "display_data",
          "data": {
            "image/png": "[encoded data removed]",
            "text/plain": [
              "<Figure size 402.875x360 with 1 Axes>"
            ]
          },
          "metadata": {
            "needs_background": "light"
          }
        }
      ]
    },
    {
      "cell_type": "markdown",
      "metadata": {
        "id": "597jOsquatbx"
      },
      "source": [
        "### **Umbral**"
      ]
    },
    {
      "cell_type": "code",
      "metadata": {
        "colab": {
          "base_uri": "https://localhost:8080/",
          "height": 320
        },
        "id": "F2_5wcmtaw4l",
        "outputId": "7f3c6bb5-5ff4-463c-de3f-0e7e898b25aa"
      },
      "source": [
        "import matplotlib.pyplot as plt\n",
        "from shapely.geometry import LineString\n",
        "\n",
        "tpr = []\n",
        "fpr = []\n",
        "TP = 0\n",
        "FP = 0\n",
        "\n",
        "# Datos para la curva ROC\n",
        "for row in dataset3.itertuples():\n",
        "  #print(row.Etiq)\n",
        "  if row.Etiq == 'A':\n",
        "    FP = FP + 1\n",
        "  else:\n",
        "    TP = TP + 1\n",
        "  tpr.append(TP/N)\n",
        "  fpr.append(FP/N)\n",
        "\n",
        "# Linea de 45° para el punto umbral\n",
        "fpr_thr = np.arange(0.0, 1.0, .01)\n",
        "tpr_thr = np.arange(1.0, 0.0, -.01)\n",
        "\n",
        "# Gráfico de la curva ROC y linea de 45°\n",
        "plt.plot(fpr, tpr)\n",
        "plt.plot(fpr_thr, tpr_thr)\n",
        "\n",
        "# Punto de intersección\n",
        "# https://stackoverflow.com/questions/28766692/intersection-of-two-graphs-in-python-find-the-x-value\n",
        "first_line = LineString(np.column_stack((fpr, tpr)))\n",
        "second_line = LineString(np.column_stack((fpr_thr, tpr_thr)))\n",
        "intersection = first_line.intersection(second_line)\n",
        "if intersection.geom_type == 'MultiPoint':\n",
        "    plt.plot(*LineString(intersection).xy, 'o')\n",
        "elif intersection.geom_type == 'Point':\n",
        "    plt.plot(*intersection.xy, 'o')\n",
        "\n",
        "# Coordenadas de intersección\n",
        "intersection.xy\n",
        "\n",
        "# Punto de intersección\n",
        "umbral_x = round(intersection.xy[0][0], 2)\n",
        "umbral_y = round(intersection.xy[1][0], 2)\n",
        "\n",
        "min1 = 1\n",
        "min2 = 1\n",
        "umbral_tp = 0\n",
        "umbral_fp = 0\n",
        "\n",
        "# Busqueda de la proporción correspondiente al punto de intersección\n",
        "for i in range(len(tpr)):\n",
        "  div = i/N\n",
        "  diff_x = np.abs(div - umbral_x)\n",
        "  diff_y = np.abs(div - umbral_y)\n",
        "\n",
        "  if diff_x < min1:\n",
        "    min1 = diff_x\n",
        "    umbral_fp = i\n",
        "  \n",
        "  if diff_y < min2:\n",
        "    min2 = diff_y\n",
        "    umbral_tp = i\n",
        "\n",
        "print(\"TPR = {}, es equivalente a: {}/{}\".format(umbral_y, umbral_tp, N))\n",
        "print(\"FPR = {}, es equivalente a: {}/{}\".format(umbral_x, umbral_fp, N))\n",
        "\n",
        "# Búsqueda del valor 'Val' en el dataset\n",
        "#     TruePositive(TP) = B \n",
        "#     FalsePositive(FP) = A\n",
        "A_count = 0\n",
        "B_count = 0\n",
        "umbral_value = 0\n",
        "for row in dataset3.itertuples():\n",
        "  if row.Etiq == 'A':\n",
        "    A_count = A_count + 1\n",
        "  else:\n",
        "    B_count = B_count + 1\n",
        "\n",
        "  if A_count == umbral_fp and B_count == umbral_tp:\n",
        "    umbral_value = row.Val\n",
        "    break\n",
        "\n",
        "print(\"Para A = {} y B = {}, el valor es {}\".format(A_count, B_count, umbral_value))"
      ],
      "execution_count": null,
      "outputs": [
        {
          "output_type": "stream",
          "name": "stdout",
          "text": [
            "TPR = 0.98, es equivalente a: 49/50\n",
            "FPR = 0.02, es equivalente a: 1/50\n",
            "Para A = 1 y B = 49, el valor es 7.833829291855616\n"
          ]
        },
        {
          "output_type": "display_data",
          "data": {
            "image/png": "[encoded data removed]",
            "text/plain": [
              "<Figure size 432x288 with 1 Axes>"
            ]
          },
          "metadata": {
            "needs_background": "light"
          }
        }
      ]
    },
    {
      "cell_type": "markdown",
      "metadata": {
        "id": "KTA0TO07buPJ"
      },
      "source": [
        "### **Clasificación y evaluación**"
      ]
    },
    {
      "cell_type": "code",
      "metadata": {
        "colab": {
          "base_uri": "https://localhost:8080/",
          "height": 536
        },
        "id": "RN-spl68b1SB",
        "outputId": "d7870704-12b0-4768-8cb1-6e8710469865"
      },
      "source": [
        "import matplotlib.pyplot as plt\n",
        "from sklearn.metrics import classification_report\n",
        "\n",
        "# Se clasifica según el umbral encontrado\n",
        "Etiq_prediccion = []\n",
        "for row in dataset3.itertuples():\n",
        "  if row.Val > umbral_value:\n",
        "    Etiq_prediccion.append('B')\n",
        "  else:\n",
        "    Etiq_prediccion.append('A')\n",
        "\n",
        "# Se añade la predicción al dataset\n",
        "dataset3['Etiq_prediccion'] = Etiq_prediccion\n",
        "\n",
        "y_actual = dataset3['Etiq']\n",
        "y_prediccion = dataset3['Etiq_prediccion']\n",
        "\n",
        "# Matriz de confusión\n",
        "confusion_matrix3 = pd.crosstab(y_actual, y_prediccion, rownames=['True label'], colnames=['Predicted label'])\n",
        "sns.heatmap(confusion_matrix3, annot=True)\n",
        "plt.show()\n",
        "\n",
        "# Se obtienen la cuenta para cada condicion\n",
        "TP_count = confusion_matrix3.iloc[0]['A']\n",
        "FN_count = confusion_matrix3.iloc[0]['B']\n",
        "FP_count = confusion_matrix3.iloc[1]['A']\n",
        "TN_count = confusion_matrix3.iloc[1]['B']\n",
        "\n",
        "# Parámetros de calidad\n",
        "exactitud = (TP_count + TN_count) / (TP_count + TN_count + FN_count + FP_count)\n",
        "precision = (TP_count) / (TP_count + FP_count)\n",
        "recall = (TP_count) / (TP_count + FN_count)\n",
        "F1_score = (2*precision*recall) / (precision + recall)\n",
        "\n",
        "# Resultados\n",
        "print(\"\\nExactitud = \" + str(exactitud))\n",
        "print(\"Precision = \" + str(precision))\n",
        "print(\"F1-Score = \" + str(F1_score) + \"\\n\")\n",
        "\n",
        "# Resumen Sklearn\n",
        "print(classification_report(dataset3['Etiq'], dataset3['Etiq_prediccion']))"
      ],
      "execution_count": null,
      "outputs": [
        {
          "output_type": "display_data",
          "data": {
            "image/png": "[encoded data removed]",
            "text/plain": [
              "<Figure size 432x288 with 2 Axes>"
            ]
          },
          "metadata": {
            "needs_background": "light"
          }
        },
        {
          "output_type": "stream",
          "name": "stdout",
          "text": [
            "\n",
            "Exactitud = 0.97\n",
            "Precision = 0.9607843137254902\n",
            "F1-Score = 0.9702970297029702\n",
            "\n",
            "              precision    recall  f1-score   support\n",
            "\n",
            "           A       0.96      0.98      0.97        50\n",
            "           B       0.98      0.96      0.97        50\n",
            "\n",
            "    accuracy                           0.97       100\n",
            "   macro avg       0.97      0.97      0.97       100\n",
            "weighted avg       0.97      0.97      0.97       100\n",
            "\n"
          ]
        }
      ]
    },
    {
      "cell_type": "markdown",
      "metadata": {
        "id": "EFj3qH-PpYuX"
      },
      "source": [
        "Dados los parámetros mostrados al generar los datos, el clasificador arroja una **exactitud y precisión del 97%**"
      ]
    },
    {
      "cell_type": "markdown",
      "metadata": {
        "id": "ILEzD6ORcjrJ"
      },
      "source": [
        "## **Resumen**\n",
        "\n",
        "A continuación, se presentan las distribuciones de los tres datasets vistos y los resultados del clasificador implementado."
      ]
    },
    {
      "cell_type": "code",
      "metadata": {
        "colab": {
          "base_uri": "https://localhost:8080/",
          "height": 1000
        },
        "id": "5mz9lHejduUr",
        "outputId": "ec739955-1f99-4536-c365-7992235d44d8"
      },
      "source": [
        "sns.displot(data=dataset, x='Val', hue='Etiq', kind='kde', fill=True)\n",
        "plt.title(\"Dataset #1, Evaluación = 0.85\")\n",
        "\n",
        "sns.displot(data=dataset2, x='Val', hue='Etiq', kind='kde', fill=True)\n",
        "plt.title(\"Dataset #2, Evaluación = 0.65\")\n",
        "\n",
        "sns.displot(data=dataset3, x='Val', hue='Etiq', kind='kde', fill=True)\n",
        "plt.title(\"Dataset #3, Evaluación = 0.97\")"
      ],
      "execution_count": null,
      "outputs": [
        {
          "output_type": "execute_result",
          "data": {
            "text/plain": [
              "Text(0.5, 1.0, 'Dataset #3, Evaluación = 0.97')"
            ]
          },
          "metadata": {},
          "execution_count": 50
        },
        {
          "output_type": "display_data",
          "data": {
            "image/png": "[encoded data removed]",
            "text/plain": [
              "<Figure size 402.875x360 with 1 Axes>"
            ]
          },
          "metadata": {
            "needs_background": "light"
          }
        },
        {
          "output_type": "display_data",
          "data": {
            "image/png": "[encoded data removed]",
            "text/plain": [
              "<Figure size 402.875x360 with 1 Axes>"
            ]
          },
          "metadata": {
            "needs_background": "light"
          }
        },
        {
          "output_type": "display_data",
          "data": {
            "image/png": "[encoded data removed]",
            "text/plain": [
              "<Figure size 402.875x360 with 1 Axes>"
            ]
          },
          "metadata": {
            "needs_background": "light"
          }
        }
      ]
    },
    {
      "cell_type": "markdown",
      "metadata": {
        "id": "UiASaVZIqJ4h"
      },
      "source": [
        "* Como se observa, entre más distantes se encuentres distribuidos los datos, el clasificador presenta un mejor resultado por este método. Esto se debe a que entre menos solapadas las distribuciones, la curva ROC se aleja de la recta aleatoria y por ende es menos complejo distinguir entre las etiquetas A y B. \n",
        "\n",
        "* En este caso, el clasificador se escogió de manera que exista el mínimo error tanto para la tasa de falsos positivos como de verdaderos positivos. Sin embargo, dependiendo de la aplicación y contexto, el umbral se puede extraer de diferentes maneras para atender a una mayor precisión o recall."
      ]
    }
  ]
}